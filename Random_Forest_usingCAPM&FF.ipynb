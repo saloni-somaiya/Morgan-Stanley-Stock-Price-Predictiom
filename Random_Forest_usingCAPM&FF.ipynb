{
  "nbformat": 4,
  "nbformat_minor": 0,
  "metadata": {
    "kernelspec": {
      "display_name": "Python 3",
      "language": "python",
      "name": "python3"
    },
    "language_info": {
      "codemirror_mode": {
        "name": "ipython",
        "version": 3
      },
      "file_extension": ".py",
      "mimetype": "text/x-python",
      "name": "python",
      "nbconvert_exporter": "python",
      "pygments_lexer": "ipython3",
      "version": "3.8.3"
    },
    "colab": {
      "name": "Random_Forest_usingCAPM&FF.ipynb",
      "provenance": [],
      "collapsed_sections": []
    }
  },
  "cells": [
    {
      "cell_type": "markdown",
      "metadata": {
        "id": "L8KwaWfDWVVy"
      },
      "source": [
        "## **Building Random Forest using CAPM ans Fama French Models**"
      ]
    },
    {
      "cell_type": "markdown",
      "metadata": {
        "id": "Ry3EJBAE0Jbz"
      },
      "source": [
        "# **CAPM and FF**"
      ]
    },
    {
      "cell_type": "code",
      "metadata": {
        "id": "vx7GZHevZQFr"
      },
      "source": [
        "#importing libs\n",
        "import pandas as pd\n",
        "import numpy as np \n",
        "\n",
        "import statsmodels.api as sm \n",
        "import statsmodels.formula.api as smf\n",
        "from statsmodels.iolib.summary2 import summary_col "
      ],
      "execution_count": null,
      "outputs": []
    },
    {
      "cell_type": "markdown",
      "metadata": {
        "id": "stiehJwpKXYM"
      },
      "source": [
        "price2ret: This converts prices to arithmetic or log returns.\r\n",
        "\r\n",
        "\r\n",
        "assetPriceReg: By giving a dataframe of stock with a column named Returns, the function extracts the risk factor returns from web and runs a CAPM, FF3, and FF5 regression"
      ]
    },
    {
      "cell_type": "code",
      "metadata": {
        "id": "grosKPKJZQFt"
      },
      "source": [
        "def price2ret(prices,retType='simple'):\n",
        "    if retType == 'simple':\n",
        "        ret = (prices/prices.shift(1))-1\n",
        "    else:\n",
        "        ret = np.log(prices/prices.shift(1))\n",
        "    return ret"
      ],
      "execution_count": null,
      "outputs": []
    },
    {
      "cell_type": "code",
      "metadata": {
        "id": "T8MtoJF9ZQFt"
      },
      "source": [
        "def assetPriceReg(ms):\n",
        "    import pandas_datareader.data as web \n",
        "    \n",
        "    # Reading in factor data\n",
        "    df_factors = web.DataReader('F-F_Research_Data_5_Factors_2x3_daily', 'famafrench')[0]\n",
        "    df_factors.rename(columns={'Mkt-RF': 'MKT'}, inplace=True)\n",
        "    df_factors['MKT'] = df_factors['MKT']/100\n",
        "    df_factors['SMB'] = df_factors['SMB']/100\n",
        "    df_factors['HML'] = df_factors['HML']/100\n",
        "    df_factors['RMW'] = df_factors['RMW']/100\n",
        "    df_factors['CMA'] = df_factors['CMA']/100\n",
        "    \n",
        "    df_stock_factor = pd.merge(ms,df_factors,left_index=True,right_index=True) \n",
        "    df_stock_factor['XsRet'] = df_stock_factor['Returns'] - df_stock_factor['RF'] \n",
        "\n",
        "    # Running CAPM, FF3, and FF5 models.\n",
        "    CAPM = smf.ols(formula = 'XsRet ~ MKT', data=df_stock_factor).fit(cov_type='HAC',cov_kwds={'maxlags':1})\n",
        "    FF3 = smf.ols( formula = 'XsRet ~ MKT + SMB + HML', data=df_stock_factor).fit(cov_type='HAC',cov_kwds={'maxlags':1})\n",
        "    FF5 = smf.ols( formula = 'XsRet ~ MKT + SMB + HML + RMW + CMA', data=df_stock_factor).fit(cov_type='HAC',cov_kwds={'maxlags':1})\n",
        "\n",
        "    CAPMtstat = CAPM.tvalues\n",
        "    FF3tstat = FF3.tvalues\n",
        "    FF5tstat = FF5.tvalues\n",
        "\n",
        "    CAPMcoeff = CAPM.params\n",
        "    FF3coeff = FF3.params\n",
        "    FF5coeff = FF5.params\n",
        "\n",
        "    # DataFrame with coefficients and t-stats\n",
        "    results_df = pd.DataFrame({'CAPMcoeff':CAPMcoeff,'CAPMtstat':CAPMtstat,\n",
        "                               'FF3coeff':FF3coeff, 'FF3tstat':FF3tstat,\n",
        "                               'FF5coeff':FF5coeff, 'FF5tstat':FF5tstat},\n",
        "    index = ['Intercept', 'MKT', 'SMB', 'HML', 'RMW', 'CMA'])\n",
        "\n",
        "\n",
        "    dfoutput = summary_col([CAPM,FF3, FF5],stars=True,float_format='%0.4f',\n",
        "                  model_names=['CAPM','FF3','FF5'],\n",
        "                  info_dict={'N':lambda x: \"{0:d}\".format(int(x.nobs)),\n",
        "                             'Adjusted R2':lambda x: \"{:.4f}\".format(x.rsquared_adj)}, \n",
        "                             regressor_order = ['Intercept', 'MKT', 'SMB', 'HML', 'RMW', 'CMA'])\n",
        "\n",
        "    print(dfoutput)\n",
        "    \n",
        "    return results_df"
      ],
      "execution_count": null,
      "outputs": []
    },
    {
      "cell_type": "markdown",
      "metadata": {
        "id": "7IUIEF6fKcaF"
      },
      "source": [
        "Reading in MS stock data\r\n",
        "\r\n"
      ]
    },
    {
      "cell_type": "code",
      "metadata": {
        "colab": {
          "base_uri": "https://localhost:8080/"
        },
        "id": "9ZOV2tdUZQFv",
        "outputId": "141e3194-ecd6-41eb-c3c3-f9ae59b69088"
      },
      "source": [
        "from pathlib import Path\n",
        "import sys\n",
        "import os\n",
        "import pandas_datareader.data as web\n",
        "from pandas import Series, DataFrame\n",
        "\n",
        "%matplotlib inline\n",
        "\n",
        "import numpy as np\n",
        "from scipy import stats\n",
        "import pandas as pd\n",
        "import matplotlib.pyplot as plt\n",
        "\n",
        "import datetime\n",
        "\n",
        "start = datetime.datetime(2019,1,1)\n",
        "end = datetime.datetime(2019,8,31)\n",
        "\n",
        "ms = web.DataReader(\"MS\", 'yahoo', start, end)\n",
        "ms.shape\n",
        " \n"
      ],
      "execution_count": null,
      "outputs": [
        {
          "output_type": "execute_result",
          "data": {
            "text/plain": [
              "(168, 6)"
            ]
          },
          "metadata": {
            "tags": []
          },
          "execution_count": 24
        }
      ]
    },
    {
      "cell_type": "code",
      "metadata": {
        "colab": {
          "base_uri": "https://localhost:8080/",
          "height": 225
        },
        "id": "xVi58g97ZQFw",
        "outputId": "a3b3ebd2-1334-4b7f-b0b8-9083d4c1c87b"
      },
      "source": [
        "ms.head()"
      ],
      "execution_count": null,
      "outputs": [
        {
          "output_type": "execute_result",
          "data": {
            "text/html": [
              "<div>\n",
              "<style scoped>\n",
              "    .dataframe tbody tr th:only-of-type {\n",
              "        vertical-align: middle;\n",
              "    }\n",
              "\n",
              "    .dataframe tbody tr th {\n",
              "        vertical-align: top;\n",
              "    }\n",
              "\n",
              "    .dataframe thead th {\n",
              "        text-align: right;\n",
              "    }\n",
              "</style>\n",
              "<table border=\"1\" class=\"dataframe\">\n",
              "  <thead>\n",
              "    <tr style=\"text-align: right;\">\n",
              "      <th></th>\n",
              "      <th>High</th>\n",
              "      <th>Low</th>\n",
              "      <th>Open</th>\n",
              "      <th>Close</th>\n",
              "      <th>Volume</th>\n",
              "      <th>Adj Close</th>\n",
              "    </tr>\n",
              "    <tr>\n",
              "      <th>Date</th>\n",
              "      <th></th>\n",
              "      <th></th>\n",
              "      <th></th>\n",
              "      <th></th>\n",
              "      <th></th>\n",
              "      <th></th>\n",
              "    </tr>\n",
              "  </thead>\n",
              "  <tbody>\n",
              "    <tr>\n",
              "      <th>2019-01-02</th>\n",
              "      <td>40.720001</td>\n",
              "      <td>38.759998</td>\n",
              "      <td>39.020000</td>\n",
              "      <td>40.400002</td>\n",
              "      <td>10648000.0</td>\n",
              "      <td>38.113232</td>\n",
              "    </tr>\n",
              "    <tr>\n",
              "      <th>2019-01-03</th>\n",
              "      <td>40.220001</td>\n",
              "      <td>39.250000</td>\n",
              "      <td>40.220001</td>\n",
              "      <td>39.680000</td>\n",
              "      <td>13034500.0</td>\n",
              "      <td>37.433983</td>\n",
              "    </tr>\n",
              "    <tr>\n",
              "      <th>2019-01-04</th>\n",
              "      <td>41.580002</td>\n",
              "      <td>40.279999</td>\n",
              "      <td>40.500000</td>\n",
              "      <td>41.299999</td>\n",
              "      <td>14371600.0</td>\n",
              "      <td>38.962288</td>\n",
              "    </tr>\n",
              "    <tr>\n",
              "      <th>2019-01-07</th>\n",
              "      <td>42.160000</td>\n",
              "      <td>40.980000</td>\n",
              "      <td>41.509998</td>\n",
              "      <td>41.709999</td>\n",
              "      <td>11812400.0</td>\n",
              "      <td>39.349075</td>\n",
              "    </tr>\n",
              "    <tr>\n",
              "      <th>2019-01-08</th>\n",
              "      <td>42.410000</td>\n",
              "      <td>41.080002</td>\n",
              "      <td>42.299999</td>\n",
              "      <td>41.450001</td>\n",
              "      <td>11398200.0</td>\n",
              "      <td>39.103790</td>\n",
              "    </tr>\n",
              "  </tbody>\n",
              "</table>\n",
              "</div>"
            ],
            "text/plain": [
              "                 High        Low       Open      Close      Volume  Adj Close\n",
              "Date                                                                         \n",
              "2019-01-02  40.720001  38.759998  39.020000  40.400002  10648000.0  38.113232\n",
              "2019-01-03  40.220001  39.250000  40.220001  39.680000  13034500.0  37.433983\n",
              "2019-01-04  41.580002  40.279999  40.500000  41.299999  14371600.0  38.962288\n",
              "2019-01-07  42.160000  40.980000  41.509998  41.709999  11812400.0  39.349075\n",
              "2019-01-08  42.410000  41.080002  42.299999  41.450001  11398200.0  39.103790"
            ]
          },
          "metadata": {
            "tags": []
          },
          "execution_count": 25
        }
      ]
    },
    {
      "cell_type": "markdown",
      "metadata": {
        "id": "GZy723BYLDUW"
      },
      "source": [
        "applying the price to return function on 'Adj Close' and dropped nas and the information is shown below"
      ]
    },
    {
      "cell_type": "code",
      "metadata": {
        "colab": {
          "base_uri": "https://localhost:8080/",
          "height": 225
        },
        "id": "H1V4snP5ZQFx",
        "outputId": "664d2af5-923f-47f8-fd93-2ec39f0dde5a"
      },
      "source": [
        "ms['Returns'] = price2ret(ms[['Adj Close']])\n",
        "ms = ms.dropna()\n",
        "ms.tail()"
      ],
      "execution_count": null,
      "outputs": [
        {
          "output_type": "execute_result",
          "data": {
            "text/html": [
              "<div>\n",
              "<style scoped>\n",
              "    .dataframe tbody tr th:only-of-type {\n",
              "        vertical-align: middle;\n",
              "    }\n",
              "\n",
              "    .dataframe tbody tr th {\n",
              "        vertical-align: top;\n",
              "    }\n",
              "\n",
              "    .dataframe thead th {\n",
              "        text-align: right;\n",
              "    }\n",
              "</style>\n",
              "<table border=\"1\" class=\"dataframe\">\n",
              "  <thead>\n",
              "    <tr style=\"text-align: right;\">\n",
              "      <th></th>\n",
              "      <th>High</th>\n",
              "      <th>Low</th>\n",
              "      <th>Open</th>\n",
              "      <th>Close</th>\n",
              "      <th>Volume</th>\n",
              "      <th>Adj Close</th>\n",
              "      <th>Returns</th>\n",
              "    </tr>\n",
              "    <tr>\n",
              "      <th>Date</th>\n",
              "      <th></th>\n",
              "      <th></th>\n",
              "      <th></th>\n",
              "      <th></th>\n",
              "      <th></th>\n",
              "      <th></th>\n",
              "      <th></th>\n",
              "    </tr>\n",
              "  </thead>\n",
              "  <tbody>\n",
              "    <tr>\n",
              "      <th>2019-08-26</th>\n",
              "      <td>40.270000</td>\n",
              "      <td>39.700001</td>\n",
              "      <td>39.840000</td>\n",
              "      <td>40.160000</td>\n",
              "      <td>10408600.0</td>\n",
              "      <td>38.696182</td>\n",
              "      <td>0.021103</td>\n",
              "    </tr>\n",
              "    <tr>\n",
              "      <th>2019-08-27</th>\n",
              "      <td>40.340000</td>\n",
              "      <td>39.450001</td>\n",
              "      <td>40.250000</td>\n",
              "      <td>39.790001</td>\n",
              "      <td>8742900.0</td>\n",
              "      <td>38.339672</td>\n",
              "      <td>-0.009213</td>\n",
              "    </tr>\n",
              "    <tr>\n",
              "      <th>2019-08-28</th>\n",
              "      <td>40.700001</td>\n",
              "      <td>39.349998</td>\n",
              "      <td>39.400002</td>\n",
              "      <td>40.380001</td>\n",
              "      <td>9881900.0</td>\n",
              "      <td>38.908165</td>\n",
              "      <td>0.014828</td>\n",
              "    </tr>\n",
              "    <tr>\n",
              "      <th>2019-08-29</th>\n",
              "      <td>41.500000</td>\n",
              "      <td>40.869999</td>\n",
              "      <td>40.889999</td>\n",
              "      <td>41.290001</td>\n",
              "      <td>12191900.0</td>\n",
              "      <td>39.785000</td>\n",
              "      <td>0.022536</td>\n",
              "    </tr>\n",
              "    <tr>\n",
              "      <th>2019-08-30</th>\n",
              "      <td>41.869999</td>\n",
              "      <td>41.299999</td>\n",
              "      <td>41.680000</td>\n",
              "      <td>41.490002</td>\n",
              "      <td>7427000.0</td>\n",
              "      <td>39.977707</td>\n",
              "      <td>0.004844</td>\n",
              "    </tr>\n",
              "  </tbody>\n",
              "</table>\n",
              "</div>"
            ],
            "text/plain": [
              "                 High        Low       Open  ...      Volume  Adj Close   Returns\n",
              "Date                                         ...                                 \n",
              "2019-08-26  40.270000  39.700001  39.840000  ...  10408600.0  38.696182  0.021103\n",
              "2019-08-27  40.340000  39.450001  40.250000  ...   8742900.0  38.339672 -0.009213\n",
              "2019-08-28  40.700001  39.349998  39.400002  ...   9881900.0  38.908165  0.014828\n",
              "2019-08-29  41.500000  40.869999  40.889999  ...  12191900.0  39.785000  0.022536\n",
              "2019-08-30  41.869999  41.299999  41.680000  ...   7427000.0  39.977707  0.004844\n",
              "\n",
              "[5 rows x 7 columns]"
            ]
          },
          "metadata": {
            "tags": []
          },
          "execution_count": 26
        }
      ]
    },
    {
      "cell_type": "markdown",
      "metadata": {
        "id": "oAnjtP6iLMKP"
      },
      "source": [
        "we plot returns against date columns and observe the pattern"
      ]
    },
    {
      "cell_type": "code",
      "metadata": {
        "colab": {
          "base_uri": "https://localhost:8080/",
          "height": 294
        },
        "id": "VTMFYzVnZQFx",
        "outputId": "88e38822-a32e-4d8f-9574-864f32f1322a"
      },
      "source": [
        "ms['Returns'].plot()"
      ],
      "execution_count": null,
      "outputs": [
        {
          "output_type": "execute_result",
          "data": {
            "text/plain": [
              "<matplotlib.axes._subplots.AxesSubplot at 0x7f68d5e5db70>"
            ]
          },
          "metadata": {
            "tags": []
          },
          "execution_count": 27
        },
        {
          "output_type": "display_data",
          "data": {
            "image/png": "[encoded data removed]",
            "text/plain": [
              "<Figure size 432x288 with 1 Axes>"
            ]
          },
          "metadata": {
            "tags": [],
            "needs_background": "light"
          }
        }
      ]
    },
    {
      "cell_type": "markdown",
      "metadata": {
        "id": "Bm3iI38mLQuI"
      },
      "source": [
        "Similarly a distribution plot has been plotted for returns which shows that the dist is normal"
      ]
    },
    {
      "cell_type": "code",
      "metadata": {
        "colab": {
          "base_uri": "https://localhost:8080/",
          "height": 282
        },
        "id": "xE5_YUCLZQFy",
        "outputId": "7a7bbf11-4f6a-4c3a-fdb8-9cd58029ff74"
      },
      "source": [
        "ms['Returns'].hist(bins=20)"
      ],
      "execution_count": null,
      "outputs": [
        {
          "output_type": "execute_result",
          "data": {
            "text/plain": [
              "<matplotlib.axes._subplots.AxesSubplot at 0x7f68d5ca5828>"
            ]
          },
          "metadata": {
            "tags": []
          },
          "execution_count": 28
        },
        {
          "output_type": "display_data",
          "data": {
            "image/png": "[encoded data removed]",
            "text/plain": [
              "<Figure size 432x288 with 1 Axes>"
            ]
          },
          "metadata": {
            "tags": [],
            "needs_background": "light"
          }
        }
      ]
    },
    {
      "cell_type": "markdown",
      "metadata": {
        "id": "dxQhhnkyWTxd"
      },
      "source": [
        ""
      ]
    },
    {
      "cell_type": "markdown",
      "metadata": {
        "id": "ZF5F-DoZZQFy"
      },
      "source": [
        "Running risk factor regressions"
      ]
    },
    {
      "cell_type": "code",
      "metadata": {
        "colab": {
          "base_uri": "https://localhost:8080/"
        },
        "id": "fuLDNMv3ZQFz",
        "outputId": "f3f00590-0e08-41ac-fbf9-00ac526ed549"
      },
      "source": [
        "df_regOutput = assetPriceReg(ms)"
      ],
      "execution_count": null,
      "outputs": [
        {
          "output_type": "stream",
          "text": [
            "\n",
            "============================================\n",
            "               CAPM       FF3        FF5    \n",
            "--------------------------------------------\n",
            "Intercept   -0.0098*** -0.0090*** -0.0090***\n",
            "            (0.0008)   (0.0007)   (0.0006)  \n",
            "MKT         1.2407***  1.4062***  1.1715*** \n",
            "            (0.0774)   (0.0829)   (0.0776)  \n",
            "SMB                    -0.2346*   -0.3124***\n",
            "                       (0.1233)   (0.1129)  \n",
            "HML                    1.1569***  1.5770*** \n",
            "                       (0.1268)   (0.1403)  \n",
            "RMW                               -0.1696   \n",
            "                                  (0.2019)  \n",
            "CMA                               -1.6938***\n",
            "                                  (0.2958)  \n",
            "N           167        167        167       \n",
            "Adjusted R2 0.5208     0.6739     0.7358    \n",
            "============================================\n",
            "Standard errors in parentheses.\n",
            "* p<.1, ** p<.05, ***p<.01\n"
          ],
          "name": "stdout"
        }
      ]
    },
    {
      "cell_type": "code",
      "metadata": {
        "colab": {
          "base_uri": "https://localhost:8080/",
          "height": 225
        },
        "id": "EmfzzKQlZQFz",
        "outputId": "4293f195-ae39-4df8-d716-c72beaa52bc6"
      },
      "source": [
        "df_regOutput"
      ],
      "execution_count": null,
      "outputs": [
        {
          "output_type": "execute_result",
          "data": {
            "text/html": [
              "<div>\n",
              "<style scoped>\n",
              "    .dataframe tbody tr th:only-of-type {\n",
              "        vertical-align: middle;\n",
              "    }\n",
              "\n",
              "    .dataframe tbody tr th {\n",
              "        vertical-align: top;\n",
              "    }\n",
              "\n",
              "    .dataframe thead th {\n",
              "        text-align: right;\n",
              "    }\n",
              "</style>\n",
              "<table border=\"1\" class=\"dataframe\">\n",
              "  <thead>\n",
              "    <tr style=\"text-align: right;\">\n",
              "      <th></th>\n",
              "      <th>CAPMcoeff</th>\n",
              "      <th>CAPMtstat</th>\n",
              "      <th>FF3coeff</th>\n",
              "      <th>FF3tstat</th>\n",
              "      <th>FF5coeff</th>\n",
              "      <th>FF5tstat</th>\n",
              "    </tr>\n",
              "  </thead>\n",
              "  <tbody>\n",
              "    <tr>\n",
              "      <th>Intercept</th>\n",
              "      <td>-0.009798</td>\n",
              "      <td>-12.710190</td>\n",
              "      <td>-0.009042</td>\n",
              "      <td>-13.642200</td>\n",
              "      <td>-0.009016</td>\n",
              "      <td>-15.953896</td>\n",
              "    </tr>\n",
              "    <tr>\n",
              "      <th>MKT</th>\n",
              "      <td>1.240662</td>\n",
              "      <td>16.021922</td>\n",
              "      <td>1.406173</td>\n",
              "      <td>16.955458</td>\n",
              "      <td>1.171499</td>\n",
              "      <td>15.105221</td>\n",
              "    </tr>\n",
              "    <tr>\n",
              "      <th>SMB</th>\n",
              "      <td>NaN</td>\n",
              "      <td>NaN</td>\n",
              "      <td>-0.234579</td>\n",
              "      <td>-1.902155</td>\n",
              "      <td>-0.312395</td>\n",
              "      <td>-2.766038</td>\n",
              "    </tr>\n",
              "    <tr>\n",
              "      <th>HML</th>\n",
              "      <td>NaN</td>\n",
              "      <td>NaN</td>\n",
              "      <td>1.156920</td>\n",
              "      <td>9.124379</td>\n",
              "      <td>1.576986</td>\n",
              "      <td>11.239008</td>\n",
              "    </tr>\n",
              "    <tr>\n",
              "      <th>RMW</th>\n",
              "      <td>NaN</td>\n",
              "      <td>NaN</td>\n",
              "      <td>NaN</td>\n",
              "      <td>NaN</td>\n",
              "      <td>-0.169604</td>\n",
              "      <td>-0.839900</td>\n",
              "    </tr>\n",
              "    <tr>\n",
              "      <th>CMA</th>\n",
              "      <td>NaN</td>\n",
              "      <td>NaN</td>\n",
              "      <td>NaN</td>\n",
              "      <td>NaN</td>\n",
              "      <td>-1.693802</td>\n",
              "      <td>-5.726844</td>\n",
              "    </tr>\n",
              "  </tbody>\n",
              "</table>\n",
              "</div>"
            ],
            "text/plain": [
              "           CAPMcoeff  CAPMtstat  FF3coeff   FF3tstat  FF5coeff   FF5tstat\n",
              "Intercept  -0.009798 -12.710190 -0.009042 -13.642200 -0.009016 -15.953896\n",
              "MKT         1.240662  16.021922  1.406173  16.955458  1.171499  15.105221\n",
              "SMB              NaN        NaN -0.234579  -1.902155 -0.312395  -2.766038\n",
              "HML              NaN        NaN  1.156920   9.124379  1.576986  11.239008\n",
              "RMW              NaN        NaN       NaN        NaN -0.169604  -0.839900\n",
              "CMA              NaN        NaN       NaN        NaN -1.693802  -5.726844"
            ]
          },
          "metadata": {
            "tags": []
          },
          "execution_count": 30
        }
      ]
    },
    {
      "cell_type": "markdown",
      "metadata": {
        "id": "FGtLjKWnZQFz"
      },
      "source": [
        "# Building Random Forest"
      ]
    },
    {
      "cell_type": "markdown",
      "metadata": {
        "id": "Kt8U7JdNLjQs"
      },
      "source": [
        "Data has been loaded and required columns are scaled dividing by 100.The column MKT-RF has been renamed to MKT"
      ]
    },
    {
      "cell_type": "code",
      "metadata": {
        "id": "FsKGc2P3ZQF0"
      },
      "source": [
        "    # Reading in factor data\n",
        "    df_factors = web.DataReader('F-F_Research_Data_5_Factors_2x3_daily', 'famafrench')[0]\n",
        "    df_factors.rename(columns={'Mkt-RF': 'MKT'}, inplace=True)\n",
        "    df_factors['MKT'] = df_factors['MKT']/100\n",
        "    df_factors['SMB'] = df_factors['SMB']/100\n",
        "    df_factors['HML'] = df_factors['HML']/100\n",
        "    df_factors['RMW'] = df_factors['RMW']/100\n",
        "    df_factors['CMA'] = df_factors['CMA']/100"
      ],
      "execution_count": null,
      "outputs": []
    },
    {
      "cell_type": "code",
      "metadata": {
        "id": "B5XjhEWFZQF0",
        "colab": {
          "base_uri": "https://localhost:8080/",
          "height": 431
        },
        "outputId": "7bb90228-719d-4efa-dfd1-e917def92f92"
      },
      "source": [
        "df_factors"
      ],
      "execution_count": null,
      "outputs": [
        {
          "output_type": "execute_result",
          "data": {
            "text/html": [
              "<div>\n",
              "<style scoped>\n",
              "    .dataframe tbody tr th:only-of-type {\n",
              "        vertical-align: middle;\n",
              "    }\n",
              "\n",
              "    .dataframe tbody tr th {\n",
              "        vertical-align: top;\n",
              "    }\n",
              "\n",
              "    .dataframe thead th {\n",
              "        text-align: right;\n",
              "    }\n",
              "</style>\n",
              "<table border=\"1\" class=\"dataframe\">\n",
              "  <thead>\n",
              "    <tr style=\"text-align: right;\">\n",
              "      <th></th>\n",
              "      <th>MKT</th>\n",
              "      <th>SMB</th>\n",
              "      <th>HML</th>\n",
              "      <th>RMW</th>\n",
              "      <th>CMA</th>\n",
              "      <th>RF</th>\n",
              "    </tr>\n",
              "    <tr>\n",
              "      <th>Date</th>\n",
              "      <th></th>\n",
              "      <th></th>\n",
              "      <th></th>\n",
              "      <th></th>\n",
              "      <th></th>\n",
              "      <th></th>\n",
              "    </tr>\n",
              "  </thead>\n",
              "  <tbody>\n",
              "    <tr>\n",
              "      <th>2015-12-14</th>\n",
              "      <td>0.0029</td>\n",
              "      <td>-0.0113</td>\n",
              "      <td>-0.0018</td>\n",
              "      <td>0.0014</td>\n",
              "      <td>-0.0034</td>\n",
              "      <td>0.0</td>\n",
              "    </tr>\n",
              "    <tr>\n",
              "      <th>2015-12-15</th>\n",
              "      <td>0.0110</td>\n",
              "      <td>0.0019</td>\n",
              "      <td>0.0082</td>\n",
              "      <td>-0.0081</td>\n",
              "      <td>0.0012</td>\n",
              "      <td>0.0</td>\n",
              "    </tr>\n",
              "    <tr>\n",
              "      <th>2015-12-16</th>\n",
              "      <td>0.0147</td>\n",
              "      <td>0.0002</td>\n",
              "      <td>-0.0065</td>\n",
              "      <td>-0.0010</td>\n",
              "      <td>-0.0016</td>\n",
              "      <td>0.0</td>\n",
              "    </tr>\n",
              "    <tr>\n",
              "      <th>2015-12-17</th>\n",
              "      <td>-0.0146</td>\n",
              "      <td>0.0030</td>\n",
              "      <td>-0.0034</td>\n",
              "      <td>-0.0023</td>\n",
              "      <td>-0.0009</td>\n",
              "      <td>0.0</td>\n",
              "    </tr>\n",
              "    <tr>\n",
              "      <th>2015-12-18</th>\n",
              "      <td>-0.0170</td>\n",
              "      <td>0.0069</td>\n",
              "      <td>-0.0038</td>\n",
              "      <td>-0.0027</td>\n",
              "      <td>0.0017</td>\n",
              "      <td>0.0</td>\n",
              "    </tr>\n",
              "    <tr>\n",
              "      <th>...</th>\n",
              "      <td>...</td>\n",
              "      <td>...</td>\n",
              "      <td>...</td>\n",
              "      <td>...</td>\n",
              "      <td>...</td>\n",
              "      <td>...</td>\n",
              "    </tr>\n",
              "    <tr>\n",
              "      <th>2020-10-26</th>\n",
              "      <td>-0.0185</td>\n",
              "      <td>-0.0045</td>\n",
              "      <td>-0.0040</td>\n",
              "      <td>-0.0004</td>\n",
              "      <td>0.0005</td>\n",
              "      <td>0.0</td>\n",
              "    </tr>\n",
              "    <tr>\n",
              "      <th>2020-10-27</th>\n",
              "      <td>-0.0023</td>\n",
              "      <td>-0.0058</td>\n",
              "      <td>-0.0238</td>\n",
              "      <td>-0.0027</td>\n",
              "      <td>-0.0073</td>\n",
              "      <td>0.0</td>\n",
              "    </tr>\n",
              "    <tr>\n",
              "      <th>2020-10-28</th>\n",
              "      <td>-0.0342</td>\n",
              "      <td>0.0022</td>\n",
              "      <td>0.0055</td>\n",
              "      <td>-0.0049</td>\n",
              "      <td>0.0001</td>\n",
              "      <td>0.0</td>\n",
              "    </tr>\n",
              "    <tr>\n",
              "      <th>2020-10-29</th>\n",
              "      <td>0.0113</td>\n",
              "      <td>0.0014</td>\n",
              "      <td>0.0023</td>\n",
              "      <td>0.0023</td>\n",
              "      <td>0.0057</td>\n",
              "      <td>0.0</td>\n",
              "    </tr>\n",
              "    <tr>\n",
              "      <th>2020-10-30</th>\n",
              "      <td>-0.0145</td>\n",
              "      <td>-0.0024</td>\n",
              "      <td>0.0187</td>\n",
              "      <td>0.0025</td>\n",
              "      <td>0.0000</td>\n",
              "      <td>0.0</td>\n",
              "    </tr>\n",
              "  </tbody>\n",
              "</table>\n",
              "<p>1230 rows × 6 columns</p>\n",
              "</div>"
            ],
            "text/plain": [
              "               MKT     SMB     HML     RMW     CMA   RF\n",
              "Date                                                   \n",
              "2015-12-14  0.0029 -0.0113 -0.0018  0.0014 -0.0034  0.0\n",
              "2015-12-15  0.0110  0.0019  0.0082 -0.0081  0.0012  0.0\n",
              "2015-12-16  0.0147  0.0002 -0.0065 -0.0010 -0.0016  0.0\n",
              "2015-12-17 -0.0146  0.0030 -0.0034 -0.0023 -0.0009  0.0\n",
              "2015-12-18 -0.0170  0.0069 -0.0038 -0.0027  0.0017  0.0\n",
              "...            ...     ...     ...     ...     ...  ...\n",
              "2020-10-26 -0.0185 -0.0045 -0.0040 -0.0004  0.0005  0.0\n",
              "2020-10-27 -0.0023 -0.0058 -0.0238 -0.0027 -0.0073  0.0\n",
              "2020-10-28 -0.0342  0.0022  0.0055 -0.0049  0.0001  0.0\n",
              "2020-10-29  0.0113  0.0014  0.0023  0.0023  0.0057  0.0\n",
              "2020-10-30 -0.0145 -0.0024  0.0187  0.0025  0.0000  0.0\n",
              "\n",
              "[1230 rows x 6 columns]"
            ]
          },
          "metadata": {
            "tags": []
          },
          "execution_count": 14
        }
      ]
    },
    {
      "cell_type": "markdown",
      "metadata": {
        "id": "UyzhQuVONHjk"
      },
      "source": [
        "Merge two datasets namely ms, df_factors using merge operation where the kind is inner merge.\r\n",
        "We drop the returns column 'Returns'\r\n",
        "And perform renaming column 'MKT' -> 'MKt-RF'"
      ]
    },
    {
      "cell_type": "code",
      "metadata": {
        "id": "JdMkTWPfZQF1",
        "colab": {
          "base_uri": "https://localhost:8080/",
          "height": 431
        },
        "outputId": "d009ff6a-6146-4369-f428-c0e4f9c4f7ba"
      },
      "source": [
        "merge=pd.merge(ms, df_factors, how='inner', left_index=True, right_index=True)\r\n",
        "merge = merge.drop(['Returns'], axis=1)\r\n",
        "merge = merge.rename({'MKT': 'MKt-RF'}, axis = 1)\r\n",
        "merge"
      ],
      "execution_count": null,
      "outputs": [
        {
          "output_type": "execute_result",
          "data": {
            "text/html": [
              "<div>\n",
              "<style scoped>\n",
              "    .dataframe tbody tr th:only-of-type {\n",
              "        vertical-align: middle;\n",
              "    }\n",
              "\n",
              "    .dataframe tbody tr th {\n",
              "        vertical-align: top;\n",
              "    }\n",
              "\n",
              "    .dataframe thead th {\n",
              "        text-align: right;\n",
              "    }\n",
              "</style>\n",
              "<table border=\"1\" class=\"dataframe\">\n",
              "  <thead>\n",
              "    <tr style=\"text-align: right;\">\n",
              "      <th></th>\n",
              "      <th>High</th>\n",
              "      <th>Low</th>\n",
              "      <th>Open</th>\n",
              "      <th>Close</th>\n",
              "      <th>Volume</th>\n",
              "      <th>Adj Close</th>\n",
              "      <th>MKt-RF</th>\n",
              "      <th>SMB</th>\n",
              "      <th>HML</th>\n",
              "      <th>RMW</th>\n",
              "      <th>CMA</th>\n",
              "      <th>RF</th>\n",
              "    </tr>\n",
              "    <tr>\n",
              "      <th>Date</th>\n",
              "      <th></th>\n",
              "      <th></th>\n",
              "      <th></th>\n",
              "      <th></th>\n",
              "      <th></th>\n",
              "      <th></th>\n",
              "      <th></th>\n",
              "      <th></th>\n",
              "      <th></th>\n",
              "      <th></th>\n",
              "      <th></th>\n",
              "      <th></th>\n",
              "    </tr>\n",
              "  </thead>\n",
              "  <tbody>\n",
              "    <tr>\n",
              "      <th>2019-01-03</th>\n",
              "      <td>40.220001</td>\n",
              "      <td>39.250000</td>\n",
              "      <td>40.220001</td>\n",
              "      <td>39.680000</td>\n",
              "      <td>13034500.0</td>\n",
              "      <td>37.433983</td>\n",
              "      <td>-0.0245</td>\n",
              "      <td>0.0052</td>\n",
              "      <td>0.0126</td>\n",
              "      <td>-0.0025</td>\n",
              "      <td>0.0091</td>\n",
              "      <td>0.010</td>\n",
              "    </tr>\n",
              "    <tr>\n",
              "      <th>2019-01-04</th>\n",
              "      <td>41.580002</td>\n",
              "      <td>40.279999</td>\n",
              "      <td>40.500000</td>\n",
              "      <td>41.299999</td>\n",
              "      <td>14371600.0</td>\n",
              "      <td>38.962288</td>\n",
              "      <td>0.0355</td>\n",
              "      <td>0.0038</td>\n",
              "      <td>-0.0072</td>\n",
              "      <td>-0.0008</td>\n",
              "      <td>-0.0058</td>\n",
              "      <td>0.010</td>\n",
              "    </tr>\n",
              "    <tr>\n",
              "      <th>2019-01-07</th>\n",
              "      <td>42.160000</td>\n",
              "      <td>40.980000</td>\n",
              "      <td>41.509998</td>\n",
              "      <td>41.709999</td>\n",
              "      <td>11812400.0</td>\n",
              "      <td>39.349075</td>\n",
              "      <td>0.0094</td>\n",
              "      <td>0.0084</td>\n",
              "      <td>-0.0078</td>\n",
              "      <td>-0.0069</td>\n",
              "      <td>-0.0041</td>\n",
              "      <td>0.010</td>\n",
              "    </tr>\n",
              "    <tr>\n",
              "      <th>2019-01-08</th>\n",
              "      <td>42.410000</td>\n",
              "      <td>41.080002</td>\n",
              "      <td>42.299999</td>\n",
              "      <td>41.450001</td>\n",
              "      <td>11398200.0</td>\n",
              "      <td>39.103790</td>\n",
              "      <td>0.0101</td>\n",
              "      <td>0.0045</td>\n",
              "      <td>-0.0064</td>\n",
              "      <td>0.0036</td>\n",
              "      <td>-0.0009</td>\n",
              "      <td>0.010</td>\n",
              "    </tr>\n",
              "    <tr>\n",
              "      <th>2019-01-09</th>\n",
              "      <td>42.209999</td>\n",
              "      <td>41.250000</td>\n",
              "      <td>41.910000</td>\n",
              "      <td>41.740002</td>\n",
              "      <td>9223000.0</td>\n",
              "      <td>39.377380</td>\n",
              "      <td>0.0056</td>\n",
              "      <td>0.0050</td>\n",
              "      <td>0.0006</td>\n",
              "      <td>0.0010</td>\n",
              "      <td>-0.0018</td>\n",
              "      <td>0.010</td>\n",
              "    </tr>\n",
              "    <tr>\n",
              "      <th>...</th>\n",
              "      <td>...</td>\n",
              "      <td>...</td>\n",
              "      <td>...</td>\n",
              "      <td>...</td>\n",
              "      <td>...</td>\n",
              "      <td>...</td>\n",
              "      <td>...</td>\n",
              "      <td>...</td>\n",
              "      <td>...</td>\n",
              "      <td>...</td>\n",
              "      <td>...</td>\n",
              "      <td>...</td>\n",
              "    </tr>\n",
              "    <tr>\n",
              "      <th>2019-08-26</th>\n",
              "      <td>40.270000</td>\n",
              "      <td>39.700001</td>\n",
              "      <td>39.840000</td>\n",
              "      <td>40.160000</td>\n",
              "      <td>10408600.0</td>\n",
              "      <td>38.696182</td>\n",
              "      <td>0.0108</td>\n",
              "      <td>-0.0003</td>\n",
              "      <td>-0.0019</td>\n",
              "      <td>0.0019</td>\n",
              "      <td>-0.0013</td>\n",
              "      <td>0.007</td>\n",
              "    </tr>\n",
              "    <tr>\n",
              "      <th>2019-08-27</th>\n",
              "      <td>40.340000</td>\n",
              "      <td>39.450001</td>\n",
              "      <td>40.250000</td>\n",
              "      <td>39.790001</td>\n",
              "      <td>8742900.0</td>\n",
              "      <td>38.339672</td>\n",
              "      <td>-0.0046</td>\n",
              "      <td>-0.0100</td>\n",
              "      <td>-0.0068</td>\n",
              "      <td>0.0026</td>\n",
              "      <td>0.0009</td>\n",
              "      <td>0.007</td>\n",
              "    </tr>\n",
              "    <tr>\n",
              "      <th>2019-08-28</th>\n",
              "      <td>40.700001</td>\n",
              "      <td>39.349998</td>\n",
              "      <td>39.400002</td>\n",
              "      <td>40.380001</td>\n",
              "      <td>9881900.0</td>\n",
              "      <td>38.908165</td>\n",
              "      <td>0.0068</td>\n",
              "      <td>0.0064</td>\n",
              "      <td>0.0061</td>\n",
              "      <td>0.0042</td>\n",
              "      <td>0.0019</td>\n",
              "      <td>0.007</td>\n",
              "    </tr>\n",
              "    <tr>\n",
              "      <th>2019-08-29</th>\n",
              "      <td>41.500000</td>\n",
              "      <td>40.869999</td>\n",
              "      <td>40.889999</td>\n",
              "      <td>41.290001</td>\n",
              "      <td>12191900.0</td>\n",
              "      <td>39.785000</td>\n",
              "      <td>0.0135</td>\n",
              "      <td>0.0042</td>\n",
              "      <td>0.0033</td>\n",
              "      <td>0.0019</td>\n",
              "      <td>-0.0012</td>\n",
              "      <td>0.007</td>\n",
              "    </tr>\n",
              "    <tr>\n",
              "      <th>2019-08-30</th>\n",
              "      <td>41.869999</td>\n",
              "      <td>41.299999</td>\n",
              "      <td>41.680000</td>\n",
              "      <td>41.490002</td>\n",
              "      <td>7427000.0</td>\n",
              "      <td>39.977707</td>\n",
              "      <td>0.0003</td>\n",
              "      <td>-0.0025</td>\n",
              "      <td>0.0025</td>\n",
              "      <td>0.0012</td>\n",
              "      <td>0.0011</td>\n",
              "      <td>0.007</td>\n",
              "    </tr>\n",
              "  </tbody>\n",
              "</table>\n",
              "<p>167 rows × 12 columns</p>\n",
              "</div>"
            ],
            "text/plain": [
              "                 High        Low       Open  ...     RMW     CMA     RF\n",
              "Date                                         ...                       \n",
              "2019-01-03  40.220001  39.250000  40.220001  ... -0.0025  0.0091  0.010\n",
              "2019-01-04  41.580002  40.279999  40.500000  ... -0.0008 -0.0058  0.010\n",
              "2019-01-07  42.160000  40.980000  41.509998  ... -0.0069 -0.0041  0.010\n",
              "2019-01-08  42.410000  41.080002  42.299999  ...  0.0036 -0.0009  0.010\n",
              "2019-01-09  42.209999  41.250000  41.910000  ...  0.0010 -0.0018  0.010\n",
              "...               ...        ...        ...  ...     ...     ...    ...\n",
              "2019-08-26  40.270000  39.700001  39.840000  ...  0.0019 -0.0013  0.007\n",
              "2019-08-27  40.340000  39.450001  40.250000  ...  0.0026  0.0009  0.007\n",
              "2019-08-28  40.700001  39.349998  39.400002  ...  0.0042  0.0019  0.007\n",
              "2019-08-29  41.500000  40.869999  40.889999  ...  0.0019 -0.0012  0.007\n",
              "2019-08-30  41.869999  41.299999  41.680000  ...  0.0012  0.0011  0.007\n",
              "\n",
              "[167 rows x 12 columns]"
            ]
          },
          "metadata": {
            "tags": []
          },
          "execution_count": 32
        }
      ]
    },
    {
      "cell_type": "markdown",
      "metadata": {
        "id": "CWacQ2FzN_P5"
      },
      "source": [
        "We now import the required libraries as below"
      ]
    },
    {
      "cell_type": "code",
      "metadata": {
        "id": "zvp3X76PZQF4"
      },
      "source": [
        "import numpy as np\n",
        "import pandas as pd\n",
        "import matplotlib.pyplot as plt\n",
        "import seaborn as sns\n",
        "import random\n",
        "from pprint import pprint\n",
        "from sklearn.metrics import mean_squared_error"
      ],
      "execution_count": null,
      "outputs": []
    },
    {
      "cell_type": "markdown",
      "metadata": {
        "id": "923VNk1KOJxH"
      },
      "source": [
        " Perform aggregations such as average, no of days, diff_open, diff_close etc. Here 'Close' which is our Y has been named as lable"
      ]
    },
    {
      "cell_type": "code",
      "metadata": {
        "colab": {
          "base_uri": "https://localhost:8080/",
          "height": 606
        },
        "id": "2bZEyS3dZQF4",
        "outputId": "042aec6c-f991-47bd-9152-9b49cb7c89b3"
      },
      "source": [
        "\n",
        "df = merge\n",
        "df = df.reset_index()\n",
        "\n",
        "df[\"Average\"] = (df[\"Open\"] + 2*df[\"High\"] + df[\"Close\"])/4\n",
        "df[\"Days\"] = range(1,df.shape[0]+1)\n",
        "df[\"diff_Open\"] = (df.Open - df.Open.shift(periods=1))\n",
        "df[\"diff_Close\"] = (df.Close - df.Close.shift(periods=1))\n",
        "df[\"diff_RMW\"] = (df.RMW - df.RMW.shift(periods=1))\n",
        "df[\"diff_SMB\"] = (df.SMB - df.SMB.shift(periods=1))\n",
        "df[\"diff_MktRF\"] = (df[\"MKt-RF\"] - df[\"MKt-RF\"].shift(periods=1))\n",
        "df[\"diff_HML\"] = (df.HML - df.HML.shift(periods=1))\n",
        "df[\"diff_CMA\"] = (df.CMA - df.CMA.shift(periods=1))\n",
        "df[\"diff_Average\"] = (df.Average - df.Average.shift(periods=1))\n",
        "df = df.dropna().reset_index(drop=True)\n",
        "df[\"label\"] = df.diff_Close\n",
        "df = df.drop(\"diff_Close\", axis=1)\n",
        "df"
      ],
      "execution_count": null,
      "outputs": [
        {
          "output_type": "execute_result",
          "data": {
            "text/html": [
              "<div>\n",
              "<style scoped>\n",
              "    .dataframe tbody tr th:only-of-type {\n",
              "        vertical-align: middle;\n",
              "    }\n",
              "\n",
              "    .dataframe tbody tr th {\n",
              "        vertical-align: top;\n",
              "    }\n",
              "\n",
              "    .dataframe thead th {\n",
              "        text-align: right;\n",
              "    }\n",
              "</style>\n",
              "<table border=\"1\" class=\"dataframe\">\n",
              "  <thead>\n",
              "    <tr style=\"text-align: right;\">\n",
              "      <th></th>\n",
              "      <th>Date</th>\n",
              "      <th>High</th>\n",
              "      <th>Low</th>\n",
              "      <th>Open</th>\n",
              "      <th>Close</th>\n",
              "      <th>Volume</th>\n",
              "      <th>Adj Close</th>\n",
              "      <th>MKt-RF</th>\n",
              "      <th>SMB</th>\n",
              "      <th>HML</th>\n",
              "      <th>RMW</th>\n",
              "      <th>CMA</th>\n",
              "      <th>RF</th>\n",
              "      <th>Average</th>\n",
              "      <th>Days</th>\n",
              "      <th>diff_Open</th>\n",
              "      <th>diff_RMW</th>\n",
              "      <th>diff_SMB</th>\n",
              "      <th>diff_MktRF</th>\n",
              "      <th>diff_HML</th>\n",
              "      <th>diff_CMA</th>\n",
              "      <th>diff_Average</th>\n",
              "      <th>label</th>\n",
              "    </tr>\n",
              "  </thead>\n",
              "  <tbody>\n",
              "    <tr>\n",
              "      <th>0</th>\n",
              "      <td>2019-01-04</td>\n",
              "      <td>41.580002</td>\n",
              "      <td>40.279999</td>\n",
              "      <td>40.500000</td>\n",
              "      <td>41.299999</td>\n",
              "      <td>14371600.0</td>\n",
              "      <td>38.962288</td>\n",
              "      <td>0.0355</td>\n",
              "      <td>0.0038</td>\n",
              "      <td>-0.0072</td>\n",
              "      <td>-0.0008</td>\n",
              "      <td>-0.0058</td>\n",
              "      <td>0.010</td>\n",
              "      <td>41.240001</td>\n",
              "      <td>2</td>\n",
              "      <td>0.279999</td>\n",
              "      <td>0.0017</td>\n",
              "      <td>-0.0014</td>\n",
              "      <td>0.0600</td>\n",
              "      <td>-0.0198</td>\n",
              "      <td>-0.0149</td>\n",
              "      <td>1.155000</td>\n",
              "      <td>1.619999</td>\n",
              "    </tr>\n",
              "    <tr>\n",
              "      <th>1</th>\n",
              "      <td>2019-01-07</td>\n",
              "      <td>42.160000</td>\n",
              "      <td>40.980000</td>\n",
              "      <td>41.509998</td>\n",
              "      <td>41.709999</td>\n",
              "      <td>11812400.0</td>\n",
              "      <td>39.349075</td>\n",
              "      <td>0.0094</td>\n",
              "      <td>0.0084</td>\n",
              "      <td>-0.0078</td>\n",
              "      <td>-0.0069</td>\n",
              "      <td>-0.0041</td>\n",
              "      <td>0.010</td>\n",
              "      <td>41.884999</td>\n",
              "      <td>3</td>\n",
              "      <td>1.009998</td>\n",
              "      <td>-0.0061</td>\n",
              "      <td>0.0046</td>\n",
              "      <td>-0.0261</td>\n",
              "      <td>-0.0006</td>\n",
              "      <td>0.0017</td>\n",
              "      <td>0.644999</td>\n",
              "      <td>0.410000</td>\n",
              "    </tr>\n",
              "    <tr>\n",
              "      <th>2</th>\n",
              "      <td>2019-01-08</td>\n",
              "      <td>42.410000</td>\n",
              "      <td>41.080002</td>\n",
              "      <td>42.299999</td>\n",
              "      <td>41.450001</td>\n",
              "      <td>11398200.0</td>\n",
              "      <td>39.103790</td>\n",
              "      <td>0.0101</td>\n",
              "      <td>0.0045</td>\n",
              "      <td>-0.0064</td>\n",
              "      <td>0.0036</td>\n",
              "      <td>-0.0009</td>\n",
              "      <td>0.010</td>\n",
              "      <td>42.142500</td>\n",
              "      <td>4</td>\n",
              "      <td>0.790001</td>\n",
              "      <td>0.0105</td>\n",
              "      <td>-0.0039</td>\n",
              "      <td>0.0007</td>\n",
              "      <td>0.0014</td>\n",
              "      <td>0.0032</td>\n",
              "      <td>0.257501</td>\n",
              "      <td>-0.259998</td>\n",
              "    </tr>\n",
              "    <tr>\n",
              "      <th>3</th>\n",
              "      <td>2019-01-09</td>\n",
              "      <td>42.209999</td>\n",
              "      <td>41.250000</td>\n",
              "      <td>41.910000</td>\n",
              "      <td>41.740002</td>\n",
              "      <td>9223000.0</td>\n",
              "      <td>39.377380</td>\n",
              "      <td>0.0056</td>\n",
              "      <td>0.0050</td>\n",
              "      <td>0.0006</td>\n",
              "      <td>0.0010</td>\n",
              "      <td>-0.0018</td>\n",
              "      <td>0.010</td>\n",
              "      <td>42.017500</td>\n",
              "      <td>5</td>\n",
              "      <td>-0.389999</td>\n",
              "      <td>-0.0026</td>\n",
              "      <td>0.0005</td>\n",
              "      <td>-0.0045</td>\n",
              "      <td>0.0070</td>\n",
              "      <td>-0.0009</td>\n",
              "      <td>-0.125000</td>\n",
              "      <td>0.290001</td>\n",
              "    </tr>\n",
              "    <tr>\n",
              "      <th>4</th>\n",
              "      <td>2019-01-10</td>\n",
              "      <td>41.959999</td>\n",
              "      <td>41.240002</td>\n",
              "      <td>41.380001</td>\n",
              "      <td>41.660000</td>\n",
              "      <td>7560800.0</td>\n",
              "      <td>39.301907</td>\n",
              "      <td>0.0042</td>\n",
              "      <td>-0.0001</td>\n",
              "      <td>-0.0047</td>\n",
              "      <td>-0.0006</td>\n",
              "      <td>-0.0004</td>\n",
              "      <td>0.010</td>\n",
              "      <td>41.740000</td>\n",
              "      <td>6</td>\n",
              "      <td>-0.529999</td>\n",
              "      <td>-0.0016</td>\n",
              "      <td>-0.0051</td>\n",
              "      <td>-0.0014</td>\n",
              "      <td>-0.0053</td>\n",
              "      <td>0.0014</td>\n",
              "      <td>-0.277500</td>\n",
              "      <td>-0.080002</td>\n",
              "    </tr>\n",
              "    <tr>\n",
              "      <th>...</th>\n",
              "      <td>...</td>\n",
              "      <td>...</td>\n",
              "      <td>...</td>\n",
              "      <td>...</td>\n",
              "      <td>...</td>\n",
              "      <td>...</td>\n",
              "      <td>...</td>\n",
              "      <td>...</td>\n",
              "      <td>...</td>\n",
              "      <td>...</td>\n",
              "      <td>...</td>\n",
              "      <td>...</td>\n",
              "      <td>...</td>\n",
              "      <td>...</td>\n",
              "      <td>...</td>\n",
              "      <td>...</td>\n",
              "      <td>...</td>\n",
              "      <td>...</td>\n",
              "      <td>...</td>\n",
              "      <td>...</td>\n",
              "      <td>...</td>\n",
              "      <td>...</td>\n",
              "      <td>...</td>\n",
              "    </tr>\n",
              "    <tr>\n",
              "      <th>161</th>\n",
              "      <td>2019-08-26</td>\n",
              "      <td>40.270000</td>\n",
              "      <td>39.700001</td>\n",
              "      <td>39.840000</td>\n",
              "      <td>40.160000</td>\n",
              "      <td>10408600.0</td>\n",
              "      <td>38.696182</td>\n",
              "      <td>0.0108</td>\n",
              "      <td>-0.0003</td>\n",
              "      <td>-0.0019</td>\n",
              "      <td>0.0019</td>\n",
              "      <td>-0.0013</td>\n",
              "      <td>0.007</td>\n",
              "      <td>40.135000</td>\n",
              "      <td>163</td>\n",
              "      <td>-0.209999</td>\n",
              "      <td>0.0085</td>\n",
              "      <td>0.0058</td>\n",
              "      <td>0.0374</td>\n",
              "      <td>-0.0001</td>\n",
              "      <td>0.0015</td>\n",
              "      <td>0.089999</td>\n",
              "      <td>0.829998</td>\n",
              "    </tr>\n",
              "    <tr>\n",
              "      <th>162</th>\n",
              "      <td>2019-08-27</td>\n",
              "      <td>40.340000</td>\n",
              "      <td>39.450001</td>\n",
              "      <td>40.250000</td>\n",
              "      <td>39.790001</td>\n",
              "      <td>8742900.0</td>\n",
              "      <td>38.339672</td>\n",
              "      <td>-0.0046</td>\n",
              "      <td>-0.0100</td>\n",
              "      <td>-0.0068</td>\n",
              "      <td>0.0026</td>\n",
              "      <td>0.0009</td>\n",
              "      <td>0.007</td>\n",
              "      <td>40.180000</td>\n",
              "      <td>164</td>\n",
              "      <td>0.410000</td>\n",
              "      <td>0.0007</td>\n",
              "      <td>-0.0097</td>\n",
              "      <td>-0.0154</td>\n",
              "      <td>-0.0049</td>\n",
              "      <td>0.0022</td>\n",
              "      <td>0.045000</td>\n",
              "      <td>-0.369999</td>\n",
              "    </tr>\n",
              "    <tr>\n",
              "      <th>163</th>\n",
              "      <td>2019-08-28</td>\n",
              "      <td>40.700001</td>\n",
              "      <td>39.349998</td>\n",
              "      <td>39.400002</td>\n",
              "      <td>40.380001</td>\n",
              "      <td>9881900.0</td>\n",
              "      <td>38.908165</td>\n",
              "      <td>0.0068</td>\n",
              "      <td>0.0064</td>\n",
              "      <td>0.0061</td>\n",
              "      <td>0.0042</td>\n",
              "      <td>0.0019</td>\n",
              "      <td>0.007</td>\n",
              "      <td>40.295001</td>\n",
              "      <td>165</td>\n",
              "      <td>-0.849998</td>\n",
              "      <td>0.0016</td>\n",
              "      <td>0.0164</td>\n",
              "      <td>0.0114</td>\n",
              "      <td>0.0129</td>\n",
              "      <td>0.0010</td>\n",
              "      <td>0.115001</td>\n",
              "      <td>0.590000</td>\n",
              "    </tr>\n",
              "    <tr>\n",
              "      <th>164</th>\n",
              "      <td>2019-08-29</td>\n",
              "      <td>41.500000</td>\n",
              "      <td>40.869999</td>\n",
              "      <td>40.889999</td>\n",
              "      <td>41.290001</td>\n",
              "      <td>12191900.0</td>\n",
              "      <td>39.785000</td>\n",
              "      <td>0.0135</td>\n",
              "      <td>0.0042</td>\n",
              "      <td>0.0033</td>\n",
              "      <td>0.0019</td>\n",
              "      <td>-0.0012</td>\n",
              "      <td>0.007</td>\n",
              "      <td>41.295000</td>\n",
              "      <td>166</td>\n",
              "      <td>1.489998</td>\n",
              "      <td>-0.0023</td>\n",
              "      <td>-0.0022</td>\n",
              "      <td>0.0067</td>\n",
              "      <td>-0.0028</td>\n",
              "      <td>-0.0031</td>\n",
              "      <td>0.999999</td>\n",
              "      <td>0.910000</td>\n",
              "    </tr>\n",
              "    <tr>\n",
              "      <th>165</th>\n",
              "      <td>2019-08-30</td>\n",
              "      <td>41.869999</td>\n",
              "      <td>41.299999</td>\n",
              "      <td>41.680000</td>\n",
              "      <td>41.490002</td>\n",
              "      <td>7427000.0</td>\n",
              "      <td>39.977707</td>\n",
              "      <td>0.0003</td>\n",
              "      <td>-0.0025</td>\n",
              "      <td>0.0025</td>\n",
              "      <td>0.0012</td>\n",
              "      <td>0.0011</td>\n",
              "      <td>0.007</td>\n",
              "      <td>41.727500</td>\n",
              "      <td>167</td>\n",
              "      <td>0.790001</td>\n",
              "      <td>-0.0007</td>\n",
              "      <td>-0.0067</td>\n",
              "      <td>-0.0132</td>\n",
              "      <td>-0.0008</td>\n",
              "      <td>0.0023</td>\n",
              "      <td>0.432500</td>\n",
              "      <td>0.200001</td>\n",
              "    </tr>\n",
              "  </tbody>\n",
              "</table>\n",
              "<p>166 rows × 23 columns</p>\n",
              "</div>"
            ],
            "text/plain": [
              "          Date       High        Low  ...  diff_CMA  diff_Average     label\n",
              "0   2019-01-04  41.580002  40.279999  ...   -0.0149      1.155000  1.619999\n",
              "1   2019-01-07  42.160000  40.980000  ...    0.0017      0.644999  0.410000\n",
              "2   2019-01-08  42.410000  41.080002  ...    0.0032      0.257501 -0.259998\n",
              "3   2019-01-09  42.209999  41.250000  ...   -0.0009     -0.125000  0.290001\n",
              "4   2019-01-10  41.959999  41.240002  ...    0.0014     -0.277500 -0.080002\n",
              "..         ...        ...        ...  ...       ...           ...       ...\n",
              "161 2019-08-26  40.270000  39.700001  ...    0.0015      0.089999  0.829998\n",
              "162 2019-08-27  40.340000  39.450001  ...    0.0022      0.045000 -0.369999\n",
              "163 2019-08-28  40.700001  39.349998  ...    0.0010      0.115001  0.590000\n",
              "164 2019-08-29  41.500000  40.869999  ...   -0.0031      0.999999  0.910000\n",
              "165 2019-08-30  41.869999  41.299999  ...    0.0023      0.432500  0.200001\n",
              "\n",
              "[166 rows x 23 columns]"
            ]
          },
          "metadata": {
            "tags": []
          },
          "execution_count": 34
        }
      ]
    },
    {
      "cell_type": "markdown",
      "metadata": {
        "id": "RTXAZi6UORyO"
      },
      "source": [
        "Below are the new columns introduced"
      ]
    },
    {
      "cell_type": "code",
      "metadata": {
        "colab": {
          "base_uri": "https://localhost:8080/"
        },
        "id": "Gpof9iDLZQF6",
        "outputId": "5ec342ca-8293-4f4e-e9a2-54240ccb38cc"
      },
      "source": [
        "df.columns"
      ],
      "execution_count": null,
      "outputs": [
        {
          "output_type": "execute_result",
          "data": {
            "text/plain": [
              "Index(['Date', 'High', 'Low', 'Open', 'Close', 'Volume', 'Adj Close', 'MKt-RF',\n",
              "       'SMB', 'HML', 'RMW', 'CMA', 'RF', 'Average', 'Days', 'diff_Open',\n",
              "       'diff_RMW', 'diff_SMB', 'diff_MktRF', 'diff_HML', 'diff_CMA',\n",
              "       'diff_Average', 'label'],\n",
              "      dtype='object')"
            ]
          },
          "metadata": {
            "tags": []
          },
          "execution_count": 35
        }
      ]
    },
    {
      "cell_type": "markdown",
      "metadata": {
        "id": "F7BxjZ86PMBV"
      },
      "source": [
        "Now we modify the data by dropping \"label\" remove \"na\" and reset the index for df_x and manipulations such as dropna(), reser_index on df_y i.e taget column and merge both and stored in as modified_df \r\n"
      ]
    },
    {
      "cell_type": "code",
      "metadata": {
        "colab": {
          "base_uri": "https://localhost:8080/",
          "height": 606
        },
        "id": "ykAEVc1VZQF6",
        "outputId": "a949f224-3ff2-4d90-ede3-e07e9f3ab62e"
      },
      "source": [
        "df_x = df.drop(\"label\", axis =1).shift(periods=1).dropna().reset_index(drop=True)\n",
        "df_y = df[[\"label\"]].shift(periods=-1).dropna().reset_index(drop=True)\n",
        "modified_df = pd.concat([df_x,df_y], axis =1)\n",
        "\n",
        "modified_df\n"
      ],
      "execution_count": null,
      "outputs": [
        {
          "output_type": "execute_result",
          "data": {
            "text/html": [
              "<div>\n",
              "<style scoped>\n",
              "    .dataframe tbody tr th:only-of-type {\n",
              "        vertical-align: middle;\n",
              "    }\n",
              "\n",
              "    .dataframe tbody tr th {\n",
              "        vertical-align: top;\n",
              "    }\n",
              "\n",
              "    .dataframe thead th {\n",
              "        text-align: right;\n",
              "    }\n",
              "</style>\n",
              "<table border=\"1\" class=\"dataframe\">\n",
              "  <thead>\n",
              "    <tr style=\"text-align: right;\">\n",
              "      <th></th>\n",
              "      <th>Date</th>\n",
              "      <th>High</th>\n",
              "      <th>Low</th>\n",
              "      <th>Open</th>\n",
              "      <th>Close</th>\n",
              "      <th>Volume</th>\n",
              "      <th>Adj Close</th>\n",
              "      <th>MKt-RF</th>\n",
              "      <th>SMB</th>\n",
              "      <th>HML</th>\n",
              "      <th>RMW</th>\n",
              "      <th>CMA</th>\n",
              "      <th>RF</th>\n",
              "      <th>Average</th>\n",
              "      <th>Days</th>\n",
              "      <th>diff_Open</th>\n",
              "      <th>diff_RMW</th>\n",
              "      <th>diff_SMB</th>\n",
              "      <th>diff_MktRF</th>\n",
              "      <th>diff_HML</th>\n",
              "      <th>diff_CMA</th>\n",
              "      <th>diff_Average</th>\n",
              "      <th>label</th>\n",
              "    </tr>\n",
              "  </thead>\n",
              "  <tbody>\n",
              "    <tr>\n",
              "      <th>0</th>\n",
              "      <td>2019-01-04</td>\n",
              "      <td>41.580002</td>\n",
              "      <td>40.279999</td>\n",
              "      <td>40.500000</td>\n",
              "      <td>41.299999</td>\n",
              "      <td>14371600.0</td>\n",
              "      <td>38.962288</td>\n",
              "      <td>0.0355</td>\n",
              "      <td>0.0038</td>\n",
              "      <td>-0.0072</td>\n",
              "      <td>-0.0008</td>\n",
              "      <td>-0.0058</td>\n",
              "      <td>0.010</td>\n",
              "      <td>41.240001</td>\n",
              "      <td>2.0</td>\n",
              "      <td>0.279999</td>\n",
              "      <td>0.0017</td>\n",
              "      <td>-0.0014</td>\n",
              "      <td>0.0600</td>\n",
              "      <td>-0.0198</td>\n",
              "      <td>-0.0149</td>\n",
              "      <td>1.155000</td>\n",
              "      <td>0.410000</td>\n",
              "    </tr>\n",
              "    <tr>\n",
              "      <th>1</th>\n",
              "      <td>2019-01-07</td>\n",
              "      <td>42.160000</td>\n",
              "      <td>40.980000</td>\n",
              "      <td>41.509998</td>\n",
              "      <td>41.709999</td>\n",
              "      <td>11812400.0</td>\n",
              "      <td>39.349075</td>\n",
              "      <td>0.0094</td>\n",
              "      <td>0.0084</td>\n",
              "      <td>-0.0078</td>\n",
              "      <td>-0.0069</td>\n",
              "      <td>-0.0041</td>\n",
              "      <td>0.010</td>\n",
              "      <td>41.884999</td>\n",
              "      <td>3.0</td>\n",
              "      <td>1.009998</td>\n",
              "      <td>-0.0061</td>\n",
              "      <td>0.0046</td>\n",
              "      <td>-0.0261</td>\n",
              "      <td>-0.0006</td>\n",
              "      <td>0.0017</td>\n",
              "      <td>0.644999</td>\n",
              "      <td>-0.259998</td>\n",
              "    </tr>\n",
              "    <tr>\n",
              "      <th>2</th>\n",
              "      <td>2019-01-08</td>\n",
              "      <td>42.410000</td>\n",
              "      <td>41.080002</td>\n",
              "      <td>42.299999</td>\n",
              "      <td>41.450001</td>\n",
              "      <td>11398200.0</td>\n",
              "      <td>39.103790</td>\n",
              "      <td>0.0101</td>\n",
              "      <td>0.0045</td>\n",
              "      <td>-0.0064</td>\n",
              "      <td>0.0036</td>\n",
              "      <td>-0.0009</td>\n",
              "      <td>0.010</td>\n",
              "      <td>42.142500</td>\n",
              "      <td>4.0</td>\n",
              "      <td>0.790001</td>\n",
              "      <td>0.0105</td>\n",
              "      <td>-0.0039</td>\n",
              "      <td>0.0007</td>\n",
              "      <td>0.0014</td>\n",
              "      <td>0.0032</td>\n",
              "      <td>0.257501</td>\n",
              "      <td>0.290001</td>\n",
              "    </tr>\n",
              "    <tr>\n",
              "      <th>3</th>\n",
              "      <td>2019-01-09</td>\n",
              "      <td>42.209999</td>\n",
              "      <td>41.250000</td>\n",
              "      <td>41.910000</td>\n",
              "      <td>41.740002</td>\n",
              "      <td>9223000.0</td>\n",
              "      <td>39.377380</td>\n",
              "      <td>0.0056</td>\n",
              "      <td>0.0050</td>\n",
              "      <td>0.0006</td>\n",
              "      <td>0.0010</td>\n",
              "      <td>-0.0018</td>\n",
              "      <td>0.010</td>\n",
              "      <td>42.017500</td>\n",
              "      <td>5.0</td>\n",
              "      <td>-0.389999</td>\n",
              "      <td>-0.0026</td>\n",
              "      <td>0.0005</td>\n",
              "      <td>-0.0045</td>\n",
              "      <td>0.0070</td>\n",
              "      <td>-0.0009</td>\n",
              "      <td>-0.125000</td>\n",
              "      <td>-0.080002</td>\n",
              "    </tr>\n",
              "    <tr>\n",
              "      <th>4</th>\n",
              "      <td>2019-01-10</td>\n",
              "      <td>41.959999</td>\n",
              "      <td>41.240002</td>\n",
              "      <td>41.380001</td>\n",
              "      <td>41.660000</td>\n",
              "      <td>7560800.0</td>\n",
              "      <td>39.301907</td>\n",
              "      <td>0.0042</td>\n",
              "      <td>-0.0001</td>\n",
              "      <td>-0.0047</td>\n",
              "      <td>-0.0006</td>\n",
              "      <td>-0.0004</td>\n",
              "      <td>0.010</td>\n",
              "      <td>41.740000</td>\n",
              "      <td>6.0</td>\n",
              "      <td>-0.529999</td>\n",
              "      <td>-0.0016</td>\n",
              "      <td>-0.0051</td>\n",
              "      <td>-0.0014</td>\n",
              "      <td>-0.0053</td>\n",
              "      <td>0.0014</td>\n",
              "      <td>-0.277500</td>\n",
              "      <td>0.080002</td>\n",
              "    </tr>\n",
              "    <tr>\n",
              "      <th>...</th>\n",
              "      <td>...</td>\n",
              "      <td>...</td>\n",
              "      <td>...</td>\n",
              "      <td>...</td>\n",
              "      <td>...</td>\n",
              "      <td>...</td>\n",
              "      <td>...</td>\n",
              "      <td>...</td>\n",
              "      <td>...</td>\n",
              "      <td>...</td>\n",
              "      <td>...</td>\n",
              "      <td>...</td>\n",
              "      <td>...</td>\n",
              "      <td>...</td>\n",
              "      <td>...</td>\n",
              "      <td>...</td>\n",
              "      <td>...</td>\n",
              "      <td>...</td>\n",
              "      <td>...</td>\n",
              "      <td>...</td>\n",
              "      <td>...</td>\n",
              "      <td>...</td>\n",
              "      <td>...</td>\n",
              "    </tr>\n",
              "    <tr>\n",
              "      <th>160</th>\n",
              "      <td>2019-08-23</td>\n",
              "      <td>40.400002</td>\n",
              "      <td>39.110001</td>\n",
              "      <td>40.049999</td>\n",
              "      <td>39.330002</td>\n",
              "      <td>12310800.0</td>\n",
              "      <td>37.896439</td>\n",
              "      <td>-0.0266</td>\n",
              "      <td>-0.0061</td>\n",
              "      <td>-0.0018</td>\n",
              "      <td>-0.0066</td>\n",
              "      <td>-0.0028</td>\n",
              "      <td>0.007</td>\n",
              "      <td>40.045001</td>\n",
              "      <td>162.0</td>\n",
              "      <td>-0.310001</td>\n",
              "      <td>-0.0084</td>\n",
              "      <td>-0.0024</td>\n",
              "      <td>-0.0256</td>\n",
              "      <td>-0.0069</td>\n",
              "      <td>-0.0055</td>\n",
              "      <td>-0.322498</td>\n",
              "      <td>0.829998</td>\n",
              "    </tr>\n",
              "    <tr>\n",
              "      <th>161</th>\n",
              "      <td>2019-08-26</td>\n",
              "      <td>40.270000</td>\n",
              "      <td>39.700001</td>\n",
              "      <td>39.840000</td>\n",
              "      <td>40.160000</td>\n",
              "      <td>10408600.0</td>\n",
              "      <td>38.696182</td>\n",
              "      <td>0.0108</td>\n",
              "      <td>-0.0003</td>\n",
              "      <td>-0.0019</td>\n",
              "      <td>0.0019</td>\n",
              "      <td>-0.0013</td>\n",
              "      <td>0.007</td>\n",
              "      <td>40.135000</td>\n",
              "      <td>163.0</td>\n",
              "      <td>-0.209999</td>\n",
              "      <td>0.0085</td>\n",
              "      <td>0.0058</td>\n",
              "      <td>0.0374</td>\n",
              "      <td>-0.0001</td>\n",
              "      <td>0.0015</td>\n",
              "      <td>0.089999</td>\n",
              "      <td>-0.369999</td>\n",
              "    </tr>\n",
              "    <tr>\n",
              "      <th>162</th>\n",
              "      <td>2019-08-27</td>\n",
              "      <td>40.340000</td>\n",
              "      <td>39.450001</td>\n",
              "      <td>40.250000</td>\n",
              "      <td>39.790001</td>\n",
              "      <td>8742900.0</td>\n",
              "      <td>38.339672</td>\n",
              "      <td>-0.0046</td>\n",
              "      <td>-0.0100</td>\n",
              "      <td>-0.0068</td>\n",
              "      <td>0.0026</td>\n",
              "      <td>0.0009</td>\n",
              "      <td>0.007</td>\n",
              "      <td>40.180000</td>\n",
              "      <td>164.0</td>\n",
              "      <td>0.410000</td>\n",
              "      <td>0.0007</td>\n",
              "      <td>-0.0097</td>\n",
              "      <td>-0.0154</td>\n",
              "      <td>-0.0049</td>\n",
              "      <td>0.0022</td>\n",
              "      <td>0.045000</td>\n",
              "      <td>0.590000</td>\n",
              "    </tr>\n",
              "    <tr>\n",
              "      <th>163</th>\n",
              "      <td>2019-08-28</td>\n",
              "      <td>40.700001</td>\n",
              "      <td>39.349998</td>\n",
              "      <td>39.400002</td>\n",
              "      <td>40.380001</td>\n",
              "      <td>9881900.0</td>\n",
              "      <td>38.908165</td>\n",
              "      <td>0.0068</td>\n",
              "      <td>0.0064</td>\n",
              "      <td>0.0061</td>\n",
              "      <td>0.0042</td>\n",
              "      <td>0.0019</td>\n",
              "      <td>0.007</td>\n",
              "      <td>40.295001</td>\n",
              "      <td>165.0</td>\n",
              "      <td>-0.849998</td>\n",
              "      <td>0.0016</td>\n",
              "      <td>0.0164</td>\n",
              "      <td>0.0114</td>\n",
              "      <td>0.0129</td>\n",
              "      <td>0.0010</td>\n",
              "      <td>0.115001</td>\n",
              "      <td>0.910000</td>\n",
              "    </tr>\n",
              "    <tr>\n",
              "      <th>164</th>\n",
              "      <td>2019-08-29</td>\n",
              "      <td>41.500000</td>\n",
              "      <td>40.869999</td>\n",
              "      <td>40.889999</td>\n",
              "      <td>41.290001</td>\n",
              "      <td>12191900.0</td>\n",
              "      <td>39.785000</td>\n",
              "      <td>0.0135</td>\n",
              "      <td>0.0042</td>\n",
              "      <td>0.0033</td>\n",
              "      <td>0.0019</td>\n",
              "      <td>-0.0012</td>\n",
              "      <td>0.007</td>\n",
              "      <td>41.295000</td>\n",
              "      <td>166.0</td>\n",
              "      <td>1.489998</td>\n",
              "      <td>-0.0023</td>\n",
              "      <td>-0.0022</td>\n",
              "      <td>0.0067</td>\n",
              "      <td>-0.0028</td>\n",
              "      <td>-0.0031</td>\n",
              "      <td>0.999999</td>\n",
              "      <td>0.200001</td>\n",
              "    </tr>\n",
              "  </tbody>\n",
              "</table>\n",
              "<p>165 rows × 23 columns</p>\n",
              "</div>"
            ],
            "text/plain": [
              "          Date       High        Low  ...  diff_CMA  diff_Average     label\n",
              "0   2019-01-04  41.580002  40.279999  ...   -0.0149      1.155000  0.410000\n",
              "1   2019-01-07  42.160000  40.980000  ...    0.0017      0.644999 -0.259998\n",
              "2   2019-01-08  42.410000  41.080002  ...    0.0032      0.257501  0.290001\n",
              "3   2019-01-09  42.209999  41.250000  ...   -0.0009     -0.125000 -0.080002\n",
              "4   2019-01-10  41.959999  41.240002  ...    0.0014     -0.277500  0.080002\n",
              "..         ...        ...        ...  ...       ...           ...       ...\n",
              "160 2019-08-23  40.400002  39.110001  ...   -0.0055     -0.322498  0.829998\n",
              "161 2019-08-26  40.270000  39.700001  ...    0.0015      0.089999 -0.369999\n",
              "162 2019-08-27  40.340000  39.450001  ...    0.0022      0.045000  0.590000\n",
              "163 2019-08-28  40.700001  39.349998  ...    0.0010      0.115001  0.910000\n",
              "164 2019-08-29  41.500000  40.869999  ...   -0.0031      0.999999  0.200001\n",
              "\n",
              "[165 rows x 23 columns]"
            ]
          },
          "metadata": {
            "tags": []
          },
          "execution_count": 36
        }
      ]
    },
    {
      "cell_type": "markdown",
      "metadata": {
        "id": "cdmZaa_MPb_M"
      },
      "source": [
        "Below we have given required train and test , start and end dates respectively now we chop the required data according to start and end date and take in required columns such as Close, volume, rf, diff_close,diff_RMW etc"
      ]
    },
    {
      "cell_type": "code",
      "metadata": {
        "id": "KeNN3koRZQF7"
      },
      "source": [
        "train_start_date = \"2019-01-04\"\n",
        "train_end_date =  \"2019-07-15\"\n",
        "test_start_date = \"2019-07-16\"\n",
        "test_end_date = \"2019-08-29\"\n",
        "df_tr = df[(df[\"Date\"] >= train_start_date) & (df[\"Date\"] <= train_end_date)]\n",
        "df_tst = df[(df[\"Date\"] >= test_start_date) & (df[\"Date\"] <= test_end_date)]\n",
        "df_train = df_tr[[\"Close\",\"Volume\",\"RF\",\"diff_Open\",\"diff_RMW\",\"diff_SMB\",\"diff_MktRF\",\"diff_HML\",\"diff_CMA\",\"diff_Average\",\"label\"]]\n",
        "df_test = df_tst[[\"Close\",\"Volume\",\"RF\",\"diff_Open\",\"diff_RMW\",\"diff_SMB\",\"diff_MktRF\",\"diff_HML\",\"diff_CMA\",\"diff_Average\",\"label\"]]"
      ],
      "execution_count": null,
      "outputs": []
    },
    {
      "cell_type": "code",
      "metadata": {
        "colab": {
          "base_uri": "https://localhost:8080/",
          "height": 195
        },
        "id": "T7ANt81zZQF7",
        "outputId": "ad9b3b87-39fb-4677-e16b-2f233ebdd1d2"
      },
      "source": [
        "df_train.head()"
      ],
      "execution_count": null,
      "outputs": [
        {
          "output_type": "execute_result",
          "data": {
            "text/html": [
              "<div>\n",
              "<style scoped>\n",
              "    .dataframe tbody tr th:only-of-type {\n",
              "        vertical-align: middle;\n",
              "    }\n",
              "\n",
              "    .dataframe tbody tr th {\n",
              "        vertical-align: top;\n",
              "    }\n",
              "\n",
              "    .dataframe thead th {\n",
              "        text-align: right;\n",
              "    }\n",
              "</style>\n",
              "<table border=\"1\" class=\"dataframe\">\n",
              "  <thead>\n",
              "    <tr style=\"text-align: right;\">\n",
              "      <th></th>\n",
              "      <th>Close</th>\n",
              "      <th>Volume</th>\n",
              "      <th>RF</th>\n",
              "      <th>diff_Open</th>\n",
              "      <th>diff_RMW</th>\n",
              "      <th>diff_SMB</th>\n",
              "      <th>diff_MktRF</th>\n",
              "      <th>diff_HML</th>\n",
              "      <th>diff_CMA</th>\n",
              "      <th>diff_Average</th>\n",
              "      <th>label</th>\n",
              "    </tr>\n",
              "  </thead>\n",
              "  <tbody>\n",
              "    <tr>\n",
              "      <th>0</th>\n",
              "      <td>41.299999</td>\n",
              "      <td>14371600.0</td>\n",
              "      <td>0.01</td>\n",
              "      <td>0.279999</td>\n",
              "      <td>0.0017</td>\n",
              "      <td>-0.0014</td>\n",
              "      <td>0.0600</td>\n",
              "      <td>-0.0198</td>\n",
              "      <td>-0.0149</td>\n",
              "      <td>1.155000</td>\n",
              "      <td>1.619999</td>\n",
              "    </tr>\n",
              "    <tr>\n",
              "      <th>1</th>\n",
              "      <td>41.709999</td>\n",
              "      <td>11812400.0</td>\n",
              "      <td>0.01</td>\n",
              "      <td>1.009998</td>\n",
              "      <td>-0.0061</td>\n",
              "      <td>0.0046</td>\n",
              "      <td>-0.0261</td>\n",
              "      <td>-0.0006</td>\n",
              "      <td>0.0017</td>\n",
              "      <td>0.644999</td>\n",
              "      <td>0.410000</td>\n",
              "    </tr>\n",
              "    <tr>\n",
              "      <th>2</th>\n",
              "      <td>41.450001</td>\n",
              "      <td>11398200.0</td>\n",
              "      <td>0.01</td>\n",
              "      <td>0.790001</td>\n",
              "      <td>0.0105</td>\n",
              "      <td>-0.0039</td>\n",
              "      <td>0.0007</td>\n",
              "      <td>0.0014</td>\n",
              "      <td>0.0032</td>\n",
              "      <td>0.257501</td>\n",
              "      <td>-0.259998</td>\n",
              "    </tr>\n",
              "    <tr>\n",
              "      <th>3</th>\n",
              "      <td>41.740002</td>\n",
              "      <td>9223000.0</td>\n",
              "      <td>0.01</td>\n",
              "      <td>-0.389999</td>\n",
              "      <td>-0.0026</td>\n",
              "      <td>0.0005</td>\n",
              "      <td>-0.0045</td>\n",
              "      <td>0.0070</td>\n",
              "      <td>-0.0009</td>\n",
              "      <td>-0.125000</td>\n",
              "      <td>0.290001</td>\n",
              "    </tr>\n",
              "    <tr>\n",
              "      <th>4</th>\n",
              "      <td>41.660000</td>\n",
              "      <td>7560800.0</td>\n",
              "      <td>0.01</td>\n",
              "      <td>-0.529999</td>\n",
              "      <td>-0.0016</td>\n",
              "      <td>-0.0051</td>\n",
              "      <td>-0.0014</td>\n",
              "      <td>-0.0053</td>\n",
              "      <td>0.0014</td>\n",
              "      <td>-0.277500</td>\n",
              "      <td>-0.080002</td>\n",
              "    </tr>\n",
              "  </tbody>\n",
              "</table>\n",
              "</div>"
            ],
            "text/plain": [
              "       Close      Volume    RF  ...  diff_CMA  diff_Average     label\n",
              "0  41.299999  14371600.0  0.01  ...   -0.0149      1.155000  1.619999\n",
              "1  41.709999  11812400.0  0.01  ...    0.0017      0.644999  0.410000\n",
              "2  41.450001  11398200.0  0.01  ...    0.0032      0.257501 -0.259998\n",
              "3  41.740002   9223000.0  0.01  ...   -0.0009     -0.125000  0.290001\n",
              "4  41.660000   7560800.0  0.01  ...    0.0014     -0.277500 -0.080002\n",
              "\n",
              "[5 rows x 11 columns]"
            ]
          },
          "metadata": {
            "tags": []
          },
          "execution_count": 38
        }
      ]
    },
    {
      "cell_type": "code",
      "metadata": {
        "colab": {
          "base_uri": "https://localhost:8080/",
          "height": 195
        },
        "id": "y6rNss7-ZQF7",
        "outputId": "aeb39e37-a558-432d-ea9c-0f99d656ded6"
      },
      "source": [
        "df_test.head()"
      ],
      "execution_count": null,
      "outputs": [
        {
          "output_type": "execute_result",
          "data": {
            "text/html": [
              "<div>\n",
              "<style scoped>\n",
              "    .dataframe tbody tr th:only-of-type {\n",
              "        vertical-align: middle;\n",
              "    }\n",
              "\n",
              "    .dataframe tbody tr th {\n",
              "        vertical-align: top;\n",
              "    }\n",
              "\n",
              "    .dataframe thead th {\n",
              "        text-align: right;\n",
              "    }\n",
              "</style>\n",
              "<table border=\"1\" class=\"dataframe\">\n",
              "  <thead>\n",
              "    <tr style=\"text-align: right;\">\n",
              "      <th></th>\n",
              "      <th>Close</th>\n",
              "      <th>Volume</th>\n",
              "      <th>RF</th>\n",
              "      <th>diff_Open</th>\n",
              "      <th>diff_RMW</th>\n",
              "      <th>diff_SMB</th>\n",
              "      <th>diff_MktRF</th>\n",
              "      <th>diff_HML</th>\n",
              "      <th>diff_CMA</th>\n",
              "      <th>diff_Average</th>\n",
              "      <th>label</th>\n",
              "    </tr>\n",
              "  </thead>\n",
              "  <tbody>\n",
              "    <tr>\n",
              "      <th>132</th>\n",
              "      <td>44.430000</td>\n",
              "      <td>10170900.0</td>\n",
              "      <td>0.009</td>\n",
              "      <td>-0.209999</td>\n",
              "      <td>0.0034</td>\n",
              "      <td>0.0090</td>\n",
              "      <td>-0.0028</td>\n",
              "      <td>0.0113</td>\n",
              "      <td>-0.0028</td>\n",
              "      <td>-0.027498</td>\n",
              "      <td>0.000000</td>\n",
              "    </tr>\n",
              "    <tr>\n",
              "      <th>133</th>\n",
              "      <td>43.770000</td>\n",
              "      <td>9131800.0</td>\n",
              "      <td>0.009</td>\n",
              "      <td>-0.540001</td>\n",
              "      <td>-0.0098</td>\n",
              "      <td>-0.0066</td>\n",
              "      <td>-0.0032</td>\n",
              "      <td>-0.0078</td>\n",
              "      <td>-0.0020</td>\n",
              "      <td>-0.670001</td>\n",
              "      <td>-0.660000</td>\n",
              "    </tr>\n",
              "    <tr>\n",
              "      <th>134</th>\n",
              "      <td>44.430000</td>\n",
              "      <td>11187500.0</td>\n",
              "      <td>0.009</td>\n",
              "      <td>-0.590000</td>\n",
              "      <td>0.0017</td>\n",
              "      <td>-0.0002</td>\n",
              "      <td>0.0099</td>\n",
              "      <td>0.0064</td>\n",
              "      <td>0.0062</td>\n",
              "      <td>0.117500</td>\n",
              "      <td>0.660000</td>\n",
              "    </tr>\n",
              "    <tr>\n",
              "      <th>135</th>\n",
              "      <td>44.389999</td>\n",
              "      <td>10083600.0</td>\n",
              "      <td>0.009</td>\n",
              "      <td>0.680000</td>\n",
              "      <td>0.0070</td>\n",
              "      <td>0.0059</td>\n",
              "      <td>-0.0091</td>\n",
              "      <td>0.0087</td>\n",
              "      <td>-0.0023</td>\n",
              "      <td>0.254999</td>\n",
              "      <td>-0.040001</td>\n",
              "    </tr>\n",
              "    <tr>\n",
              "      <th>136</th>\n",
              "      <td>44.500000</td>\n",
              "      <td>7091800.0</td>\n",
              "      <td>0.009</td>\n",
              "      <td>-0.129997</td>\n",
              "      <td>-0.0058</td>\n",
              "      <td>-0.0084</td>\n",
              "      <td>0.0081</td>\n",
              "      <td>-0.0134</td>\n",
              "      <td>-0.0016</td>\n",
              "      <td>-0.059999</td>\n",
              "      <td>0.110001</td>\n",
              "    </tr>\n",
              "  </tbody>\n",
              "</table>\n",
              "</div>"
            ],
            "text/plain": [
              "         Close      Volume     RF  ...  diff_CMA  diff_Average     label\n",
              "132  44.430000  10170900.0  0.009  ...   -0.0028     -0.027498  0.000000\n",
              "133  43.770000   9131800.0  0.009  ...   -0.0020     -0.670001 -0.660000\n",
              "134  44.430000  11187500.0  0.009  ...    0.0062      0.117500  0.660000\n",
              "135  44.389999  10083600.0  0.009  ...   -0.0023      0.254999 -0.040001\n",
              "136  44.500000   7091800.0  0.009  ...   -0.0016     -0.059999  0.110001\n",
              "\n",
              "[5 rows x 11 columns]"
            ]
          },
          "metadata": {
            "tags": []
          },
          "execution_count": 39
        }
      ]
    },
    {
      "cell_type": "markdown",
      "metadata": {
        "id": "vUkesfkxP4Ja"
      },
      "source": [
        "Below is a function which checks the purity such as unique values returns true if the len(unique_class) is 1 else false"
      ]
    },
    {
      "cell_type": "code",
      "metadata": {
        "id": "0NCJGhpZZQF8"
      },
      "source": [
        "def check_purity(data):\n",
        "    label_column = data[:, -1]\n",
        "    unique_classes = np.unique(label_column)\n",
        "    if len(unique_classes) == 1:\n",
        "        return True\n",
        "    else:\n",
        "        return False"
      ],
      "execution_count": null,
      "outputs": []
    },
    {
      "cell_type": "markdown",
      "metadata": {
        "id": "WerQUhLcQG6Z"
      },
      "source": [
        "The below function creates leaf node which is the mean of the column and returns the value"
      ]
    },
    {
      "cell_type": "code",
      "metadata": {
        "id": "UlRQyN-7ZQF9"
      },
      "source": [
        "def create_leaf(data):\n",
        "    label_column = data[:, -1]\n",
        "    leaf = np.mean(label_column)\n",
        "    return leaf"
      ],
      "execution_count": null,
      "outputs": []
    },
    {
      "cell_type": "markdown",
      "metadata": {
        "id": "P9Rh5ps0QcSR"
      },
      "source": [
        "The get_potential_splits is used to split a random space and return the required potential split of data "
      ]
    },
    {
      "cell_type": "code",
      "metadata": {
        "id": "SUOB0XUwZQF-"
      },
      "source": [
        "def get_potential_splits(data, random_subspace):\n",
        "    \n",
        "    potential_splits = {}\n",
        "    _, n_columns = data.shape\n",
        "    \n",
        "    column_indices = list(range(n_columns-1))       \n",
        "    \n",
        "    if random_subspace and random_subspace <= len(column_indices):\n",
        "        column_indices = random.sample(population=column_indices, k=random_subspace)\n",
        "    \n",
        "    for column_index in column_indices:          \n",
        "        values = data[:, column_index]\n",
        "        unique_values = np.unique(values)\n",
        "        \n",
        "        potential_splits[column_index] = unique_values\n",
        "        \n",
        "    return potential_splits"
      ],
      "execution_count": null,
      "outputs": []
    },
    {
      "cell_type": "markdown",
      "metadata": {
        "id": "FJVW48pKQvhO"
      },
      "source": [
        "split data functions splits the columns as follows if the type_of_feature is \"continuous\" \r\n",
        "then we have data_below consisting split_column_values <= split_value and data_above as split_column_values> split_value\r\n",
        "if the feature is categorical our split is as follows data_below\r\n",
        "has split_col_value == split_value else != split_value and required data is returned from the function"
      ]
    },
    {
      "cell_type": "code",
      "metadata": {
        "id": "u3P-QMQMZQF_"
      },
      "source": [
        "def split_data(data, split_column, split_value):\n",
        "    \n",
        "    split_column_values = data[:, split_column]\n",
        "\n",
        "    type_of_feature = FEATURE_TYPES[split_column]\n",
        "    if type_of_feature == \"continuous\":\n",
        "        data_below = data[split_column_values <= split_value]\n",
        "        data_above = data[split_column_values >  split_value]\n",
        "    \n",
        "    # feature is categorical   \n",
        "    else:\n",
        "        data_below = data[split_column_values == split_value]\n",
        "        data_above = data[split_column_values != split_value]\n",
        "    \n",
        "    return data_below, data_above"
      ],
      "execution_count": null,
      "outputs": []
    },
    {
      "cell_type": "markdown",
      "metadata": {
        "id": "v-TjlN0MR9-J"
      },
      "source": [
        "we need measure our model performance in this case we use calculate_mse in order to calculate mean square error on data there are two conditions\r\n",
        "if actual_values are zero then there is no comparision among predicted and actual hence mse = 0 \r\n",
        "else we formulate mse as mean_square of difference of actual and predicted"
      ]
    },
    {
      "cell_type": "code",
      "metadata": {
        "id": "G4WyIcE-ZQGC"
      },
      "source": [
        "def calculate_mse(data):\n",
        "    \n",
        "    actual_values = data[:, -1]\n",
        "    if len(actual_values) == 0:   # empty data\n",
        "        mse = 0\n",
        "    else:\n",
        "        prediction = np.mean(actual_values)\n",
        "        mse = np.mean((actual_values - prediction) **2)\n",
        "    \n",
        "    return mse"
      ],
      "execution_count": null,
      "outputs": []
    },
    {
      "cell_type": "markdown",
      "metadata": {
        "id": "RoceB70TSHFn"
      },
      "source": [
        "Now we need to caluclate the overall_performance of both above and below data which is as follows\r\n",
        "we use weighted sum of data and metrics and return overall_value"
      ]
    },
    {
      "cell_type": "code",
      "metadata": {
        "id": "KbfxeXZTZQGD"
      },
      "source": [
        "def calculate_overall_metric(data_below, data_above, metric_function):\n",
        "    \n",
        "    n = len(data_below) + len(data_above)\n",
        "    p_data_below = len(data_below) / n\n",
        "    p_data_above = len(data_above) / n\n",
        "\n",
        "    overall_metric =  (p_data_below * metric_function(data_below) \n",
        "                     + p_data_above * metric_function(data_above))\n",
        "    \n",
        "    return overall_metric"
      ],
      "execution_count": null,
      "outputs": []
    },
    {
      "cell_type": "markdown",
      "metadata": {
        "id": "9yEaig__SeYu"
      },
      "source": [
        "In order to determine the best split we use the below function which describes the best split by considering the amount of mse or metrics returns due to the specific split . This in turn returns the best split whihc has least error "
      ]
    },
    {
      "cell_type": "code",
      "metadata": {
        "id": "Zlcyoc1tZQGD"
      },
      "source": [
        "def determine_best_split(data, potential_splits):\n",
        "    \n",
        "    first_iteration = True\n",
        "    for column_index in potential_splits:\n",
        "        for value in potential_splits[column_index]:\n",
        "            data_below, data_above = split_data(data, split_column=column_index, split_value=value)\n",
        "            current_overall_metric = calculate_overall_metric(data_below, data_above, metric_function=calculate_mse)\n",
        "\n",
        "            if first_iteration or current_overall_metric <= best_overall_metric:\n",
        "                first_iteration = False\n",
        "                \n",
        "                best_overall_metric = current_overall_metric\n",
        "                best_split_column = column_index\n",
        "                best_split_value = value\n",
        "    \n",
        "    return best_split_column, best_split_value"
      ],
      "execution_count": null,
      "outputs": []
    },
    {
      "cell_type": "markdown",
      "metadata": {
        "id": "77-SVa-8S3ys"
      },
      "source": [
        "This function  checks whether a feature (except label) is categorical or continuous "
      ]
    },
    {
      "cell_type": "code",
      "metadata": {
        "id": "JDmi_XKeZQGE"
      },
      "source": [
        "def determine_type_of_feature(df):\n",
        "    \n",
        "    feature_types = []\n",
        "    n_unique_values_treshold = 15\n",
        "    for feature in df.columns:\n",
        "        \n",
        "        if feature != \"label\":\n",
        "            unique_values = df[feature].unique()\n",
        "            example_value = unique_values[0]\n",
        "\n",
        "            if (isinstance(example_value, str)) or (len(unique_values) <= n_unique_values_treshold):\n",
        "                feature_types.append(\"categorical\")\n",
        "            else:\n",
        "                feature_types.append(\"continuous\")\n",
        "    \n",
        "    return feature_types"
      ],
      "execution_count": null,
      "outputs": []
    },
    {
      "cell_type": "markdown",
      "metadata": {
        "id": "DIq4O6LvTEsf"
      },
      "source": [
        "Bootstrapping is used for randomization where we provide bootstrap length and the indices are assigned randomly \r\n",
        "and required bootstrapped data will be returned as df_bootstrapped"
      ]
    },
    {
      "cell_type": "code",
      "metadata": {
        "id": "6xmXS_yeZQGF"
      },
      "source": [
        "def bootstrapping(train_df, n_bootstrap):\n",
        "    \n",
        "    bootstrap_indices = np.random.randint(low=0, high=len(train_df), size=n_bootstrap)\n",
        "    df_bootstrapped = train_df.iloc[bootstrap_indices]\n",
        "    \n",
        "    return df_bootstrapped"
      ],
      "execution_count": null,
      "outputs": []
    },
    {
      "cell_type": "markdown",
      "metadata": {
        "id": "jvmwtjpaTWnG"
      },
      "source": [
        "Decision_tree method takes in counter, datatset, min_samples, max_depth and random_subspace if the counter which acts like flag is set to zero which is our first iteration the data is taken in and from counter > 0 the df is assigned to data variable , the required checks such as purity, best_split, etc are used and sub_tree is returned "
      ]
    },
    {
      "cell_type": "code",
      "metadata": {
        "id": "OfphBY_tZQGF"
      },
      "source": [
        "def decision_tree_algorithm(df, counter=0, min_samples=5, max_depth=5, random_subspace=None):\n",
        "    \n",
        "    # data preparations\n",
        "    if counter == 0:\n",
        "        global COLUMN_HEADERS, FEATURE_TYPES\n",
        "        COLUMN_HEADERS = df.columns\n",
        "        FEATURE_TYPES = determine_type_of_feature(df)\n",
        "        data = df.values\n",
        "    else:\n",
        "        data = df           \n",
        "    \n",
        "    \n",
        "    # base cases\n",
        "    if (check_purity(data)) or (len(data) < min_samples) or (counter == max_depth):\n",
        "        leaf = create_leaf(data)\n",
        "        return leaf\n",
        "\n",
        "    \n",
        "    # recursive part\n",
        "    else:    \n",
        "        counter += 1\n",
        "\n",
        "        # helper functions \n",
        "        potential_splits = get_potential_splits(data, random_subspace)\n",
        "        split_column, split_value = determine_best_split(data, potential_splits)\n",
        "        data_below, data_above = split_data(data, split_column, split_value)\n",
        "        \n",
        "        # check for empty data\n",
        "        if len(data_below) == 0 or len(data_above) == 0:\n",
        "            leaf = create_leaf(data)\n",
        "            return leaf\n",
        "        \n",
        "        # determine question\n",
        "        feature_name = COLUMN_HEADERS[split_column]\n",
        "        type_of_feature = FEATURE_TYPES[split_column]\n",
        "        if type_of_feature == \"continuous\":\n",
        "            question = \"{} <= {}\".format(feature_name, split_value)\n",
        "            \n",
        "        # feature is categorical\n",
        "        else:\n",
        "            question = \"{} = {}\".format(feature_name, split_value)\n",
        "        \n",
        "        # instantiate sub-tree\n",
        "        sub_tree = {question: []}\n",
        "        \n",
        "        # find answers (recursion)\n",
        "        yes_answer = decision_tree_algorithm(data_below, counter, min_samples, max_depth, random_subspace)\n",
        "        no_answer = decision_tree_algorithm(data_above, counter, min_samples, max_depth, random_subspace)\n",
        "        \n",
        "        # If yes_answer = no_answer\n",
        "        if yes_answer == no_answer:\n",
        "            sub_tree = yes_answer\n",
        "        else:\n",
        "            sub_tree[question].append(yes_answer)\n",
        "            sub_tree[question].append(no_answer)\n",
        "        \n",
        "        return sub_tree"
      ],
      "execution_count": null,
      "outputs": []
    },
    {
      "cell_type": "markdown",
      "metadata": {
        "id": "28TVglcPVBz0"
      },
      "source": [
        "Now we apply bootstrapping on random tree and return random_forest on dataset"
      ]
    },
    {
      "cell_type": "code",
      "metadata": {
        "id": "x4Jx-X5rZQGG"
      },
      "source": [
        "def random_forest_algorithm(df_train, n_trees, n_bootstrap, n_features, dt_max_depth):\n",
        "    forest = []\n",
        "    for i in range(n_trees):\n",
        "        df_bootstrapped = bootstrapping(df_train, n_bootstrap)\n",
        "        tree = decision_tree_algorithm(df_bootstrapped, max_depth=dt_max_depth, random_subspace=n_features)\n",
        "        forest.append(tree)\n",
        "    \n",
        "    return forest"
      ],
      "execution_count": null,
      "outputs": []
    },
    {
      "cell_type": "markdown",
      "metadata": {
        "id": "mMUJqMAJU2pZ"
      },
      "source": [
        "we fit our model with an example "
      ]
    },
    {
      "cell_type": "code",
      "metadata": {
        "id": "BwDHIIj3ZQGG"
      },
      "source": [
        "def predict_example(example, tree):\n",
        "    record = list()\n",
        "    question = list(tree.keys())[0]\n",
        "    feature_name, comparison_operator, value = question.split(\" \")\n",
        "\n",
        "    # ask question\n",
        "    if comparison_operator == \"<=\":\n",
        "        if example[feature_name] <= float(value):\n",
        "            answer = tree[question][0]\n",
        "        else:\n",
        "            answer = tree[question][1]\n",
        "    \n",
        "    # feature is categorical\n",
        "    else:\n",
        "        if str(example[feature_name]) == value:\n",
        "            answer = tree[question][0]\n",
        "        else:\n",
        "            answer = tree[question][1]\n",
        "\n",
        "    # base case\n",
        "    if not isinstance(answer, dict):\n",
        "        return answer\n",
        "    \n",
        "    # recursive part\n",
        "    else:\n",
        "        residual_tree = answer\n",
        "        return predict_example(example, residual_tree)"
      ],
      "execution_count": null,
      "outputs": []
    },
    {
      "cell_type": "markdown",
      "metadata": {
        "id": "0itKeksTVTU4"
      },
      "source": [
        "decision tree predictions are performed on test data "
      ]
    },
    {
      "cell_type": "code",
      "metadata": {
        "id": "QNseSoPvZQGH"
      },
      "source": [
        "def decision_tree_predictions(df_test, tree):\n",
        "    predictions = df_test.apply(predict_example, args=(tree,), axis=1)\n",
        "    return predictions"
      ],
      "execution_count": null,
      "outputs": []
    },
    {
      "cell_type": "markdown",
      "metadata": {
        "id": "P3OIBdOtVinF"
      },
      "source": [
        "random_forest_predictions are performed on test data as follows"
      ]
    },
    {
      "cell_type": "code",
      "metadata": {
        "id": "wzLyIiMrZQGH"
      },
      "source": [
        "def random_forest_predictions(df_test, forest):\n",
        "    df_predictions = {}\n",
        "    for i in range(len(forest)):\n",
        "        column_name = \"tree_{}\".format(i)\n",
        "        predictions = decision_tree_predictions(df_test, tree=forest[i])\n",
        "        df_predictions[column_name] = predictions\n",
        "\n",
        "    df_predictions = pd.DataFrame(df_predictions)\n",
        "    random_forest_predictions = df_predictions.mode(axis=1)[0]\n",
        "    \n",
        "    return random_forest_predictions"
      ],
      "execution_count": null,
      "outputs": []
    },
    {
      "cell_type": "markdown",
      "metadata": {
        "id": "RbPvzyB2VsHe"
      },
      "source": [
        "Performance metrics such as r_squared, rmse are calculated below:"
      ]
    },
    {
      "cell_type": "code",
      "metadata": {
        "id": "F3Zj_X5RZQGH"
      },
      "source": [
        "def calculate_r_squared(predictions, labels):    \n",
        "    mean = labels.mean()\n",
        "    ss_res = sum((labels - predictions) ** 2)\n",
        "    ss_tot = sum((labels - mean) ** 2)\n",
        "    r_squared = 1 - ss_res / ss_tot\n",
        "    \n",
        "    return r_squared"
      ],
      "execution_count": null,
      "outputs": []
    },
    {
      "cell_type": "code",
      "metadata": {
        "id": "3KfsG6VFZQGI"
      },
      "source": [
        "def calculate_rmse(predictions, labels):\n",
        "    mse = mean_squared_error(labels,predictions)\n",
        "    rmse = np.sqrt(mse)\n",
        "    return rmse"
      ],
      "execution_count": null,
      "outputs": []
    },
    {
      "cell_type": "markdown",
      "metadata": {
        "id": "-pNuDYsHV4JP"
      },
      "source": [
        "A plot is built between actuals and predictions as follows"
      ]
    },
    {
      "cell_type": "code",
      "metadata": {
        "id": "2HUP741aZQGI"
      },
      "source": [
        "def create_plot(predictions, labels, title):    \n",
        "    plot_df = pd.DataFrame({\"actual\": labels, \"predictions\": predictions})\n",
        "    plot_df.plot(figsize=(18, 5), title=title)\n",
        "    \n",
        "    return"
      ],
      "execution_count": null,
      "outputs": []
    },
    {
      "cell_type": "code",
      "metadata": {
        "colab": {
          "base_uri": "https://localhost:8080/",
          "height": 296
        },
        "id": "0zxqmoDvZQGI",
        "outputId": "3b38342d-cd06-461e-a86a-53378d752199"
      },
      "source": [
        "grid_search = {\"max_depth\": [], \"trees\": [], \"rmse_test\": [], \"r_squared_test\": [], \"bootstrap\": [] }\n",
        "for max_depth in range(1, 7):\n",
        "    for trees in range(1,10):\n",
        "        for bootstrap in range(25,225,25):\n",
        "            forest = random_forest_algorithm(df_train, n_trees=trees, n_bootstrap= bootstrap, n_features=3, dt_max_depth=max_depth)\n",
        "            delta_Close_pred = random_forest_predictions(df_test, forest)\n",
        "            df_pred = pd.DataFrame(list(zip(delta_Close_pred,df_test.label.values, df_test.Close.values)), columns = [\"predictions\",\"Actual\",\"Close_Act\"])\n",
        "            df_pred[\"Close_pred\"] = df_pred.predictions + df_test.Close.shift(1).reset_index(drop=True)\n",
        "            df_pred = df_pred.dropna().reset_index(drop=True)\n",
        "\n",
        "            rmse_test = calculate_rmse(list(df_pred.Close_pred.values), list(df_pred.Close_Act.values))\n",
        "            r_squared_test = calculate_r_squared(df_pred.Close_pred, df_pred.Close_Act)\n",
        "\n",
        "            grid_search[\"max_depth\"].append(max_depth)\n",
        "            grid_search[\"trees\"].append(trees)\n",
        "            grid_search[\"bootstrap\"].append(bootstrap)\n",
        "            grid_search[\"rmse_test\"].append(rmse_test)\n",
        "            grid_search[\"r_squared_test\"].append(r_squared_test)\n",
        "        \n",
        "    print(f\"Progress: Iteration {max_depth}/6\")\n",
        "        \n",
        "grid_search = pd.DataFrame(grid_search)\n",
        "grid_search.sort_values(\"r_squared_test\", ascending=False).head()"
      ],
      "execution_count": null,
      "outputs": [
        {
          "output_type": "stream",
          "text": [
            "Progress: Iteration 1/6\n",
            "Progress: Iteration 2/6\n",
            "Progress: Iteration 3/6\n",
            "Progress: Iteration 4/6\n",
            "Progress: Iteration 5/6\n",
            "Progress: Iteration 6/6\n"
          ],
          "name": "stdout"
        },
        {
          "output_type": "execute_result",
          "data": {
            "text/html": [
              "<div>\n",
              "<style scoped>\n",
              "    .dataframe tbody tr th:only-of-type {\n",
              "        vertical-align: middle;\n",
              "    }\n",
              "\n",
              "    .dataframe tbody tr th {\n",
              "        vertical-align: top;\n",
              "    }\n",
              "\n",
              "    .dataframe thead th {\n",
              "        text-align: right;\n",
              "    }\n",
              "</style>\n",
              "<table border=\"1\" class=\"dataframe\">\n",
              "  <thead>\n",
              "    <tr style=\"text-align: right;\">\n",
              "      <th></th>\n",
              "      <th>max_depth</th>\n",
              "      <th>trees</th>\n",
              "      <th>rmse_test</th>\n",
              "      <th>r_squared_test</th>\n",
              "      <th>bootstrap</th>\n",
              "    </tr>\n",
              "  </thead>\n",
              "  <tbody>\n",
              "    <tr>\n",
              "      <th>367</th>\n",
              "      <td>6</td>\n",
              "      <td>1</td>\n",
              "      <td>0.397715</td>\n",
              "      <td>0.966883</td>\n",
              "      <td>200</td>\n",
              "    </tr>\n",
              "    <tr>\n",
              "      <th>235</th>\n",
              "      <td>4</td>\n",
              "      <td>3</td>\n",
              "      <td>0.466761</td>\n",
              "      <td>0.954386</td>\n",
              "      <td>100</td>\n",
              "    </tr>\n",
              "    <tr>\n",
              "      <th>291</th>\n",
              "      <td>5</td>\n",
              "      <td>1</td>\n",
              "      <td>0.466963</td>\n",
              "      <td>0.954346</td>\n",
              "      <td>100</td>\n",
              "    </tr>\n",
              "    <tr>\n",
              "      <th>309</th>\n",
              "      <td>5</td>\n",
              "      <td>3</td>\n",
              "      <td>0.476462</td>\n",
              "      <td>0.952470</td>\n",
              "      <td>150</td>\n",
              "    </tr>\n",
              "    <tr>\n",
              "      <th>375</th>\n",
              "      <td>6</td>\n",
              "      <td>2</td>\n",
              "      <td>0.479282</td>\n",
              "      <td>0.951905</td>\n",
              "      <td>200</td>\n",
              "    </tr>\n",
              "  </tbody>\n",
              "</table>\n",
              "</div>"
            ],
            "text/plain": [
              "     max_depth  trees  rmse_test  r_squared_test  bootstrap\n",
              "367          6      1   0.397715        0.966883        200\n",
              "235          4      3   0.466761        0.954386        100\n",
              "291          5      1   0.466963        0.954346        100\n",
              "309          5      3   0.476462        0.952470        150\n",
              "375          6      2   0.479282        0.951905        200"
            ]
          },
          "metadata": {
            "tags": []
          },
          "execution_count": 62
        }
      ]
    },
    {
      "cell_type": "code",
      "metadata": {
        "colab": {
          "base_uri": "https://localhost:8080/"
        },
        "id": "bK72tryAZQGJ",
        "outputId": "1d2e9c5e-6263-4016-c411-6b6c7302223b"
      },
      "source": [
        "forest = random_forest_algorithm(df_train, n_trees=2, n_bootstrap= 75, n_features=3, dt_max_depth=5)\n",
        "delta_Close_pred = random_forest_predictions(df_test, forest)\n",
        "df_pred = pd.DataFrame(list(zip(delta_Close_pred,df_test.label.values, df_test.Close.values)), columns = [\"predictions\",\"Actual\",\"Close_Act\"])\n",
        "df_pred[\"Close_pred\"] = df_pred.predictions + df_test.Close.shift(1).reset_index(drop=True)\n",
        "df_pred = df_pred.dropna().reset_index(drop=True)\n",
        "\n",
        "rmse_test = calculate_rmse(list(df_pred.Close_pred.values), list(df_pred.Close_Act.values))\n",
        "r_squared_test = calculate_r_squared(df_pred.Close_pred, df_pred.Close_Act)\n",
        "    \n",
        "print(\"RMSE value of best possible solution: \",rmse_test)\n",
        "print(\"R2 value of best possible solution: \",r_squared_test)\n"
      ],
      "execution_count": null,
      "outputs": [
        {
          "output_type": "stream",
          "text": [
            "RMSE value of best possible solution:  0.554984874631505\n",
            "R2 value of best possible solution:  0.9355125260761344\n"
          ],
          "name": "stdout"
        }
      ]
    },
    {
      "cell_type": "code",
      "metadata": {
        "colab": {
          "base_uri": "https://localhost:8080/",
          "height": 336
        },
        "id": "Tb9erfCiZQGJ",
        "outputId": "4955d64f-732b-4400-f75f-07d631918c45"
      },
      "source": [
        "create_plot(list(df_pred.Close_pred.values), list(df_pred.Close_Act.values), title=\"Random Forest Prediction of Close Price on Test Data\")"
      ],
      "execution_count": null,
      "outputs": [
        {
          "output_type": "display_data",
          "data": {
            "image/png": "[encoded data removed]",
            "text/plain": [
              "<Figure size 1296x360 with 1 Axes>"
            ]
          },
          "metadata": {
            "tags": [],
            "needs_background": "light"
          }
        }
      ]
    }
  ]
}