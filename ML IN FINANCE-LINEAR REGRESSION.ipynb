{
 "cells": [
  {
   "cell_type": "code",
   "execution_count": 2,
   "metadata": {},
   "outputs": [],
   "source": [
    "import pandas as pd\n",
    "from pandas_datareader import DataReader\n",
    "from datetime import datetime\n",
    "import matplotlib.pyplot as plt\n",
    "import seaborn as sns\n",
    "import numpy as np\n",
    " \n",
    "ms = DataReader('MS',  'yahoo', datetime(2019,1,1), datetime(2020,8,31))\n",
    "returns = pd.DataFrame(np.diff(np.log(ms['Adj Close'].values)))\n",
    "returns.index = ms.index.values[1:ms.index.values.shape[0]]\n",
    "returns.columns = ['MS Returns']"
   ]
  },
  {
   "cell_type": "code",
   "execution_count": 3,
   "metadata": {},
   "outputs": [
    {
     "data": {
      "text/html": [
       "<div>\n",
       "<style scoped>\n",
       "    .dataframe tbody tr th:only-of-type {\n",
       "        vertical-align: middle;\n",
       "    }\n",
       "\n",
       "    .dataframe tbody tr th {\n",
       "        vertical-align: top;\n",
       "    }\n",
       "\n",
       "    .dataframe thead th {\n",
       "        text-align: right;\n",
       "    }\n",
       "</style>\n",
       "<table border=\"1\" class=\"dataframe\">\n",
       "  <thead>\n",
       "    <tr style=\"text-align: right;\">\n",
       "      <th></th>\n",
       "      <th>High</th>\n",
       "      <th>Low</th>\n",
       "      <th>Open</th>\n",
       "      <th>Close</th>\n",
       "      <th>Volume</th>\n",
       "      <th>Adj Close</th>\n",
       "    </tr>\n",
       "    <tr>\n",
       "      <th>Date</th>\n",
       "      <th></th>\n",
       "      <th></th>\n",
       "      <th></th>\n",
       "      <th></th>\n",
       "      <th></th>\n",
       "      <th></th>\n",
       "    </tr>\n",
       "  </thead>\n",
       "  <tbody>\n",
       "    <tr>\n",
       "      <td>2019-01-02</td>\n",
       "      <td>40.720001</td>\n",
       "      <td>38.759998</td>\n",
       "      <td>39.020000</td>\n",
       "      <td>40.400002</td>\n",
       "      <td>10648000.0</td>\n",
       "      <td>38.113232</td>\n",
       "    </tr>\n",
       "    <tr>\n",
       "      <td>2019-01-03</td>\n",
       "      <td>40.220001</td>\n",
       "      <td>39.250000</td>\n",
       "      <td>40.220001</td>\n",
       "      <td>39.680000</td>\n",
       "      <td>13034500.0</td>\n",
       "      <td>37.433983</td>\n",
       "    </tr>\n",
       "    <tr>\n",
       "      <td>2019-01-04</td>\n",
       "      <td>41.580002</td>\n",
       "      <td>40.279999</td>\n",
       "      <td>40.500000</td>\n",
       "      <td>41.299999</td>\n",
       "      <td>14371600.0</td>\n",
       "      <td>38.962288</td>\n",
       "    </tr>\n",
       "    <tr>\n",
       "      <td>2019-01-07</td>\n",
       "      <td>42.160000</td>\n",
       "      <td>40.980000</td>\n",
       "      <td>41.509998</td>\n",
       "      <td>41.709999</td>\n",
       "      <td>11812400.0</td>\n",
       "      <td>39.349075</td>\n",
       "    </tr>\n",
       "    <tr>\n",
       "      <td>2019-01-08</td>\n",
       "      <td>42.410000</td>\n",
       "      <td>41.080002</td>\n",
       "      <td>42.299999</td>\n",
       "      <td>41.450001</td>\n",
       "      <td>11398200.0</td>\n",
       "      <td>39.103790</td>\n",
       "    </tr>\n",
       "    <tr>\n",
       "      <td>...</td>\n",
       "      <td>...</td>\n",
       "      <td>...</td>\n",
       "      <td>...</td>\n",
       "      <td>...</td>\n",
       "      <td>...</td>\n",
       "      <td>...</td>\n",
       "    </tr>\n",
       "    <tr>\n",
       "      <td>2020-08-25</td>\n",
       "      <td>52.889999</td>\n",
       "      <td>51.849998</td>\n",
       "      <td>52.810001</td>\n",
       "      <td>52.049999</td>\n",
       "      <td>8425500.0</td>\n",
       "      <td>51.667038</td>\n",
       "    </tr>\n",
       "    <tr>\n",
       "      <td>2020-08-26</td>\n",
       "      <td>52.110001</td>\n",
       "      <td>51.610001</td>\n",
       "      <td>51.990002</td>\n",
       "      <td>51.709999</td>\n",
       "      <td>5920800.0</td>\n",
       "      <td>51.329536</td>\n",
       "    </tr>\n",
       "    <tr>\n",
       "      <td>2020-08-27</td>\n",
       "      <td>52.869999</td>\n",
       "      <td>51.680000</td>\n",
       "      <td>51.759998</td>\n",
       "      <td>52.610001</td>\n",
       "      <td>8910100.0</td>\n",
       "      <td>52.222916</td>\n",
       "    </tr>\n",
       "    <tr>\n",
       "      <td>2020-08-28</td>\n",
       "      <td>53.000000</td>\n",
       "      <td>52.450001</td>\n",
       "      <td>53.000000</td>\n",
       "      <td>52.889999</td>\n",
       "      <td>8743800.0</td>\n",
       "      <td>52.500854</td>\n",
       "    </tr>\n",
       "    <tr>\n",
       "      <td>2020-08-31</td>\n",
       "      <td>52.889999</td>\n",
       "      <td>52.250000</td>\n",
       "      <td>52.889999</td>\n",
       "      <td>52.259998</td>\n",
       "      <td>8026600.0</td>\n",
       "      <td>51.875492</td>\n",
       "    </tr>\n",
       "  </tbody>\n",
       "</table>\n",
       "<p>420 rows × 6 columns</p>\n",
       "</div>"
      ],
      "text/plain": [
       "                 High        Low       Open      Close      Volume  Adj Close\n",
       "Date                                                                         \n",
       "2019-01-02  40.720001  38.759998  39.020000  40.400002  10648000.0  38.113232\n",
       "2019-01-03  40.220001  39.250000  40.220001  39.680000  13034500.0  37.433983\n",
       "2019-01-04  41.580002  40.279999  40.500000  41.299999  14371600.0  38.962288\n",
       "2019-01-07  42.160000  40.980000  41.509998  41.709999  11812400.0  39.349075\n",
       "2019-01-08  42.410000  41.080002  42.299999  41.450001  11398200.0  39.103790\n",
       "...               ...        ...        ...        ...         ...        ...\n",
       "2020-08-25  52.889999  51.849998  52.810001  52.049999   8425500.0  51.667038\n",
       "2020-08-26  52.110001  51.610001  51.990002  51.709999   5920800.0  51.329536\n",
       "2020-08-27  52.869999  51.680000  51.759998  52.610001   8910100.0  52.222916\n",
       "2020-08-28  53.000000  52.450001  53.000000  52.889999   8743800.0  52.500854\n",
       "2020-08-31  52.889999  52.250000  52.889999  52.259998   8026600.0  51.875492\n",
       "\n",
       "[420 rows x 6 columns]"
      ]
     },
     "execution_count": 3,
     "metadata": {},
     "output_type": "execute_result"
    }
   ],
   "source": [
    "ms"
   ]
  },
  {
   "cell_type": "code",
   "execution_count": 4,
   "metadata": {},
   "outputs": [],
   "source": [
    "ms1=ms[['Adj Close']]"
   ]
  },
  {
   "cell_type": "code",
   "execution_count": 5,
   "metadata": {},
   "outputs": [
    {
     "data": {
      "text/html": [
       "<div>\n",
       "<style scoped>\n",
       "    .dataframe tbody tr th:only-of-type {\n",
       "        vertical-align: middle;\n",
       "    }\n",
       "\n",
       "    .dataframe tbody tr th {\n",
       "        vertical-align: top;\n",
       "    }\n",
       "\n",
       "    .dataframe thead th {\n",
       "        text-align: right;\n",
       "    }\n",
       "</style>\n",
       "<table border=\"1\" class=\"dataframe\">\n",
       "  <thead>\n",
       "    <tr style=\"text-align: right;\">\n",
       "      <th></th>\n",
       "      <th>Adj Close</th>\n",
       "    </tr>\n",
       "    <tr>\n",
       "      <th>Date</th>\n",
       "      <th></th>\n",
       "    </tr>\n",
       "  </thead>\n",
       "  <tbody>\n",
       "    <tr>\n",
       "      <td>2019-01-02</td>\n",
       "      <td>38.113232</td>\n",
       "    </tr>\n",
       "    <tr>\n",
       "      <td>2019-01-03</td>\n",
       "      <td>37.433983</td>\n",
       "    </tr>\n",
       "    <tr>\n",
       "      <td>2019-01-04</td>\n",
       "      <td>38.962288</td>\n",
       "    </tr>\n",
       "    <tr>\n",
       "      <td>2019-01-07</td>\n",
       "      <td>39.349075</td>\n",
       "    </tr>\n",
       "    <tr>\n",
       "      <td>2019-01-08</td>\n",
       "      <td>39.103790</td>\n",
       "    </tr>\n",
       "    <tr>\n",
       "      <td>...</td>\n",
       "      <td>...</td>\n",
       "    </tr>\n",
       "    <tr>\n",
       "      <td>2020-08-25</td>\n",
       "      <td>51.667038</td>\n",
       "    </tr>\n",
       "    <tr>\n",
       "      <td>2020-08-26</td>\n",
       "      <td>51.329536</td>\n",
       "    </tr>\n",
       "    <tr>\n",
       "      <td>2020-08-27</td>\n",
       "      <td>52.222916</td>\n",
       "    </tr>\n",
       "    <tr>\n",
       "      <td>2020-08-28</td>\n",
       "      <td>52.500854</td>\n",
       "    </tr>\n",
       "    <tr>\n",
       "      <td>2020-08-31</td>\n",
       "      <td>51.875492</td>\n",
       "    </tr>\n",
       "  </tbody>\n",
       "</table>\n",
       "<p>420 rows × 1 columns</p>\n",
       "</div>"
      ],
      "text/plain": [
       "            Adj Close\n",
       "Date                 \n",
       "2019-01-02  38.113232\n",
       "2019-01-03  37.433983\n",
       "2019-01-04  38.962288\n",
       "2019-01-07  39.349075\n",
       "2019-01-08  39.103790\n",
       "...               ...\n",
       "2020-08-25  51.667038\n",
       "2020-08-26  51.329536\n",
       "2020-08-27  52.222916\n",
       "2020-08-28  52.500854\n",
       "2020-08-31  51.875492\n",
       "\n",
       "[420 rows x 1 columns]"
      ]
     },
     "execution_count": 5,
     "metadata": {},
     "output_type": "execute_result"
    }
   ],
   "source": [
    "ms1"
   ]
  },
  {
   "cell_type": "code",
   "execution_count": 6,
   "metadata": {},
   "outputs": [
    {
     "data": {
      "text/plain": [
       "Index(['Date', 'High', 'Low', 'Open', 'Close', 'Volume', 'Adj Close'], dtype='object')"
      ]
     },
     "execution_count": 6,
     "metadata": {},
     "output_type": "execute_result"
    }
   ],
   "source": [
    "ms.reset_index(inplace=True)\n",
    "\n",
    "ms.columns"
   ]
  },
  {
   "cell_type": "code",
   "execution_count": 7,
   "metadata": {},
   "outputs": [],
   "source": [
    "date =ms[['Date']]"
   ]
  },
  {
   "cell_type": "code",
   "execution_count": 8,
   "metadata": {},
   "outputs": [
    {
     "data": {
      "text/html": [
       "<div>\n",
       "<style scoped>\n",
       "    .dataframe tbody tr th:only-of-type {\n",
       "        vertical-align: middle;\n",
       "    }\n",
       "\n",
       "    .dataframe tbody tr th {\n",
       "        vertical-align: top;\n",
       "    }\n",
       "\n",
       "    .dataframe thead th {\n",
       "        text-align: right;\n",
       "    }\n",
       "</style>\n",
       "<table border=\"1\" class=\"dataframe\">\n",
       "  <thead>\n",
       "    <tr style=\"text-align: right;\">\n",
       "      <th></th>\n",
       "      <th>Date</th>\n",
       "    </tr>\n",
       "  </thead>\n",
       "  <tbody>\n",
       "    <tr>\n",
       "      <td>0</td>\n",
       "      <td>2019-01-02</td>\n",
       "    </tr>\n",
       "    <tr>\n",
       "      <td>1</td>\n",
       "      <td>2019-01-03</td>\n",
       "    </tr>\n",
       "    <tr>\n",
       "      <td>2</td>\n",
       "      <td>2019-01-04</td>\n",
       "    </tr>\n",
       "    <tr>\n",
       "      <td>3</td>\n",
       "      <td>2019-01-07</td>\n",
       "    </tr>\n",
       "    <tr>\n",
       "      <td>4</td>\n",
       "      <td>2019-01-08</td>\n",
       "    </tr>\n",
       "    <tr>\n",
       "      <td>...</td>\n",
       "      <td>...</td>\n",
       "    </tr>\n",
       "    <tr>\n",
       "      <td>415</td>\n",
       "      <td>2020-08-25</td>\n",
       "    </tr>\n",
       "    <tr>\n",
       "      <td>416</td>\n",
       "      <td>2020-08-26</td>\n",
       "    </tr>\n",
       "    <tr>\n",
       "      <td>417</td>\n",
       "      <td>2020-08-27</td>\n",
       "    </tr>\n",
       "    <tr>\n",
       "      <td>418</td>\n",
       "      <td>2020-08-28</td>\n",
       "    </tr>\n",
       "    <tr>\n",
       "      <td>419</td>\n",
       "      <td>2020-08-31</td>\n",
       "    </tr>\n",
       "  </tbody>\n",
       "</table>\n",
       "<p>420 rows × 1 columns</p>\n",
       "</div>"
      ],
      "text/plain": [
       "          Date\n",
       "0   2019-01-02\n",
       "1   2019-01-03\n",
       "2   2019-01-04\n",
       "3   2019-01-07\n",
       "4   2019-01-08\n",
       "..         ...\n",
       "415 2020-08-25\n",
       "416 2020-08-26\n",
       "417 2020-08-27\n",
       "418 2020-08-28\n",
       "419 2020-08-31\n",
       "\n",
       "[420 rows x 1 columns]"
      ]
     },
     "execution_count": 8,
     "metadata": {},
     "output_type": "execute_result"
    }
   ],
   "source": [
    "date"
   ]
  },
  {
   "cell_type": "code",
   "execution_count": 9,
   "metadata": {},
   "outputs": [
    {
     "data": {
      "text/html": [
       "<div>\n",
       "<style scoped>\n",
       "    .dataframe tbody tr th:only-of-type {\n",
       "        vertical-align: middle;\n",
       "    }\n",
       "\n",
       "    .dataframe tbody tr th {\n",
       "        vertical-align: top;\n",
       "    }\n",
       "\n",
       "    .dataframe thead th {\n",
       "        text-align: right;\n",
       "    }\n",
       "</style>\n",
       "<table border=\"1\" class=\"dataframe\">\n",
       "  <thead>\n",
       "    <tr style=\"text-align: right;\">\n",
       "      <th></th>\n",
       "      <th>High</th>\n",
       "      <th>Low</th>\n",
       "      <th>Open</th>\n",
       "      <th>Close</th>\n",
       "      <th>Volume</th>\n",
       "      <th>Adj Close</th>\n",
       "    </tr>\n",
       "  </thead>\n",
       "  <tbody>\n",
       "    <tr>\n",
       "      <td>High</td>\n",
       "      <td>1.000000</td>\n",
       "      <td>0.991588</td>\n",
       "      <td>0.994211</td>\n",
       "      <td>0.995031</td>\n",
       "      <td>-0.253234</td>\n",
       "      <td>0.992551</td>\n",
       "    </tr>\n",
       "    <tr>\n",
       "      <td>Low</td>\n",
       "      <td>0.991588</td>\n",
       "      <td>1.000000</td>\n",
       "      <td>0.994835</td>\n",
       "      <td>0.994370</td>\n",
       "      <td>-0.330185</td>\n",
       "      <td>0.984873</td>\n",
       "    </tr>\n",
       "    <tr>\n",
       "      <td>Open</td>\n",
       "      <td>0.994211</td>\n",
       "      <td>0.994835</td>\n",
       "      <td>1.000000</td>\n",
       "      <td>0.989874</td>\n",
       "      <td>-0.294519</td>\n",
       "      <td>0.984318</td>\n",
       "    </tr>\n",
       "    <tr>\n",
       "      <td>Close</td>\n",
       "      <td>0.995031</td>\n",
       "      <td>0.994370</td>\n",
       "      <td>0.989874</td>\n",
       "      <td>1.000000</td>\n",
       "      <td>-0.294351</td>\n",
       "      <td>0.993607</td>\n",
       "    </tr>\n",
       "    <tr>\n",
       "      <td>Volume</td>\n",
       "      <td>-0.253234</td>\n",
       "      <td>-0.330185</td>\n",
       "      <td>-0.294519</td>\n",
       "      <td>-0.294351</td>\n",
       "      <td>1.000000</td>\n",
       "      <td>-0.271353</td>\n",
       "    </tr>\n",
       "    <tr>\n",
       "      <td>Adj Close</td>\n",
       "      <td>0.992551</td>\n",
       "      <td>0.984873</td>\n",
       "      <td>0.984318</td>\n",
       "      <td>0.993607</td>\n",
       "      <td>-0.271353</td>\n",
       "      <td>1.000000</td>\n",
       "    </tr>\n",
       "  </tbody>\n",
       "</table>\n",
       "</div>"
      ],
      "text/plain": [
       "               High       Low      Open     Close    Volume  Adj Close\n",
       "High       1.000000  0.991588  0.994211  0.995031 -0.253234   0.992551\n",
       "Low        0.991588  1.000000  0.994835  0.994370 -0.330185   0.984873\n",
       "Open       0.994211  0.994835  1.000000  0.989874 -0.294519   0.984318\n",
       "Close      0.995031  0.994370  0.989874  1.000000 -0.294351   0.993607\n",
       "Volume    -0.253234 -0.330185 -0.294519 -0.294351  1.000000  -0.271353\n",
       "Adj Close  0.992551  0.984873  0.984318  0.993607 -0.271353   1.000000"
      ]
     },
     "execution_count": 9,
     "metadata": {},
     "output_type": "execute_result"
    }
   ],
   "source": [
    "corr = ms.corr(method='pearson')\n",
    "corr"
   ]
  },
  {
   "cell_type": "code",
   "execution_count": 10,
   "metadata": {},
   "outputs": [
    {
     "data": {
      "text/plain": [
       "<matplotlib.axes._subplots.AxesSubplot at 0x2199a23bf98>"
      ]
     },
     "execution_count": 10,
     "metadata": {},
     "output_type": "execute_result"
    },
    {
     "data": {
      "image/png": "[encoded data removed]",
      "text/plain": [
       "<Figure size 432x288 with 2 Axes>"
      ]
     },
     "metadata": {
      "needs_background": "light"
     },
     "output_type": "display_data"
    }
   ],
   "source": [
    "import seaborn as sb\n",
    "sb.heatmap(corr,xticklabels=corr.columns, yticklabels=corr.columns,\n",
    " cmap='RdBu_r', annot=True, linewidth=0.5)"
   ]
  },
  {
   "cell_type": "code",
   "execution_count": 11,
   "metadata": {},
   "outputs": [
    {
     "data": {
      "text/plain": [
       "Text(0.5, 1.0, 'MS Autocorrelation plot')"
      ]
     },
     "execution_count": 11,
     "metadata": {},
     "output_type": "execute_result"
    },
    {
     "data": {
      "image/png": "[encoded data removed]",
      "text/plain": [
       "<Figure size 720x720 with 1 Axes>"
      ]
     },
     "metadata": {
      "needs_background": "light"
     },
     "output_type": "display_data"
    }
   ],
   "source": [
    "from pandas.plotting import lag_plot\n",
    "plt.figure(figsize=(10,10))\n",
    "lag_plot(ms['Close'], lag=1)\n",
    "plt.title('MS Autocorrelation plot')"
   ]
  },
  {
   "cell_type": "code",
   "execution_count": 12,
   "metadata": {},
   "outputs": [
    {
     "name": "stdout",
     "output_type": "stream",
     "text": [
      "Regression Statistics\n",
      "------------------------\n",
      "\n",
      " REGRESSION STATISTICS  \n",
      "\n",
      "------------------------\n",
      "\n",
      "beta             t_stat            p_val\n",
      "\n",
      "[[-5.47626657e-04 -3.89729979e-02  5.15544042e-01]\n",
      " [ 1.48222852e+00  1.76786978e+00  3.85413382e-02]]\n",
      "\n",
      " Joint significance of all coefficients\n",
      " [3312132.251224146, 1.1102230246251565e-16]\n",
      "R-Square is       \n",
      " 0.75759712141821\n",
      "Adjusted R Square \n",
      " 0.7570158195511074\n",
      "Standard Error    \n",
      " 0.01403267249892391\n",
      "Observations      \n",
      " 419\n",
      "-------------------------\n",
      "\n"
     ]
    }
   ],
   "source": [
    "\n",
    "\n",
    "\n",
    "import numpy as np\n",
    "import scipy.stats as ss\n",
    "import numpy as np\n",
    "import scipy.stats as ss\n",
    "import pandas as pd\n",
    "from pandas_datareader import DataReader\n",
    "from datetime import datetime\n",
    "\n",
    "MS = DataReader('MS',  'yahoo', datetime(2019,1,1), datetime(2020,8,31))\n",
    "Y = np.diff(np.log(MS['Adj Close'].values))\n",
    "T = Y.shape[0];\n",
    "\n",
    "SPY = DataReader('SPY',  'yahoo', datetime(2019,1,1), datetime(2020,8,31))\n",
    "F1 = np.diff(np.log(SPY['Adj Close'].values))\n",
    "#QQQ = DataReader('QQQ',  'yahoo', datetime(2019,1,1), datetime(2020,8,31))\n",
    "#F2 = np.diff(np.log(QQQ['Adj Close'].values))\n",
    "\n",
    "'Add Constant to X'\n",
    "X = np.column_stack([np.ones((T,1)), F1])\n",
    "N = X.shape[1]\n",
    "\n",
    "'OLS REGRESSION STARTS'\n",
    "'Linear Regression of Y: T x 1 on'\n",
    "'Regressors X: T x N'\n",
    "invXX = np.linalg.inv(X.transpose()@X)\n",
    "'OLS estimates for coefficients: X x 1'\n",
    "beta_hat = invXX@X.transpose()@Y\n",
    "'Predictive value of Y using OLS'\n",
    "y_hat = X@beta_hat\n",
    "'Residuals from OLS'\n",
    "residuals = Y - y_hat\n",
    "'Variance of residuals'\n",
    "sigma2 = (1/T)*residuals.transpose()@residuals\n",
    "'standard deviation of Y or residuals'\n",
    "sigma = np.sqrt(sigma2)\n",
    "\n",
    "'variance-covariance matrix of beta_hat'\n",
    "varcov_beta_hat = (sigma2)*invXX\n",
    "std_beta_hat = np.sqrt(T*np.diag(varcov_beta_hat))\n",
    "\n",
    "'Calculate R-square'\n",
    "R_square = 1- (residuals.transpose()@residuals)/(T*np.var(Y))\n",
    "adj_R_square = 1-(1-R_square)*(T-1)/(T-N)\n",
    "\n",
    "'Test Each Coefficient: beta_i'\n",
    "'Null Hypothesis: beta_i = 0'\n",
    "t_stat = (beta_hat.transpose()-0)/std_beta_hat\n",
    "p_val_t = 1-ss.norm.cdf(t_stat)\n",
    "\n",
    "'Test of Joint Significance of Model'\n",
    "F_stat = (beta_hat.transpose()@np.linalg.inv(varcov_beta_hat)@beta_hat/N)/\\\n",
    "         (residuals.transpose()@residuals/(T-N))\n",
    "\n",
    "p_val_F = 1-ss.f.cdf(F_stat,N-1,T-N)\n",
    "\n",
    "\n",
    "REPORT = np.column_stack([beta_hat, t_stat,p_val_t])\n",
    "print('Regression Statistics')\n",
    "print('------------------------\\n')\n",
    "print(' REGRESSION STATISTICS  \\n') \n",
    "print('------------------------\\n')\n",
    "print('beta             t_stat            p_val\\n')\n",
    "print(REPORT)\n",
    "print('\\n Joint significance of all coefficients\\n',[F_stat,p_val_F])\n",
    "print('R-Square is       \\n',R_square)\n",
    "print('Adjusted R Square \\n',adj_R_square)\n",
    "print('Standard Error    \\n',sigma)\n",
    "print('Observations      \\n',T) \n",
    "print('-------------------------\\n')"
   ]
  },
  {
   "cell_type": "code",
   "execution_count": 13,
   "metadata": {},
   "outputs": [
    {
     "data": {
      "text/plain": [
       "<matplotlib.axes._subplots.AxesSubplot at 0x2199a3ae6d8>"
      ]
     },
     "execution_count": 13,
     "metadata": {},
     "output_type": "execute_result"
    },
    {
     "data": {
      "image/png": "[encoded data removed]",
      "text/plain": [
       "<Figure size 1296x360 with 1 Axes>"
      ]
     },
     "metadata": {
      "needs_background": "light"
     },
     "output_type": "display_data"
    }
   ],
   "source": [
    "pred = pd.DataFrame(y_hat)\n",
    "act = pd.DataFrame(Y)\n",
    "\n",
    "plot_df = pd.DataFrame({\"actual\": act[0], \"predictions\": pred[0]})\n",
    "plot_df.plot(figsize=(18, 5), title='Predictions using Linear Regression')\n"
   ]
  },
  {
   "cell_type": "code",
   "execution_count": 28,
   "metadata": {},
   "outputs": [
    {
     "data": {
      "text/plain": [
       "0.01403267249892391"
      ]
     },
     "execution_count": 28,
     "metadata": {},
     "output_type": "execute_result"
    }
   ],
   "source": [
    "rmse=np.sqrt(np.mean((Y - y_hat )**2))\n",
    "rmse"
   ]
  },
  {
   "cell_type": "code",
   "execution_count": 29,
   "metadata": {},
   "outputs": [
    {
     "name": "stdout",
     "output_type": "stream",
     "text": [
      "RMSE is       \n",
      " 0.01403267249892391\n"
     ]
    }
   ],
   "source": [
    "print('RMSE is       \\n',rmse)"
   ]
  },
  {
   "cell_type": "code",
   "execution_count": 14,
   "metadata": {},
   "outputs": [],
   "source": [
    "ms['Date'] = pd.to_datetime(ms.Date, format='%Y-%m-%d')\n",
    "ms.index = ms['Date']\n",
    "\n",
    "\n",
    "    "
   ]
  },
  {
   "cell_type": "code",
   "execution_count": 15,
   "metadata": {},
   "outputs": [],
   "source": [
    "\n",
    "# Create a new DataFrame with only closing price and date\n",
    "df = pd.DataFrame(ms, columns=['Close'])\n",
    "\n",
    "# Reset index column so that we have integers to represent time for later analysis\n",
    "df = df.reset_index()"
   ]
  },
  {
   "cell_type": "code",
   "execution_count": 17,
   "metadata": {},
   "outputs": [],
   "source": [
    "from sklearn.model_selection import train_test_split\n",
    "train, test = train_test_split(df, test_size=0.20)"
   ]
  },
  {
   "cell_type": "code",
   "execution_count": 18,
   "metadata": {},
   "outputs": [],
   "source": [
    "\n",
    "# Reshape index column to 2D array for .fit() method\n",
    "X_train = np.array(train.index).reshape(-1, 1)\n",
    "y_train = train['Close']"
   ]
  },
  {
   "cell_type": "code",
   "execution_count": 20,
   "metadata": {},
   "outputs": [
    {
     "data": {
      "text/plain": [
       "LinearRegression(copy_X=True, fit_intercept=True, n_jobs=None, normalize=False)"
      ]
     },
     "execution_count": 20,
     "metadata": {},
     "output_type": "execute_result"
    }
   ],
   "source": [
    "# Create LinearRegression Object\n",
    "from sklearn.linear_model import LinearRegression\n",
    "model = LinearRegression()\n",
    "# Fit linear model using the train data set\n",
    "model.fit(X_train, y_train)"
   ]
  },
  {
   "cell_type": "code",
   "execution_count": 21,
   "metadata": {},
   "outputs": [
    {
     "name": "stdout",
     "output_type": "stream",
     "text": [
      "Slope:  0.011189168875406713\n",
      "Intercept:  42.36144673080007\n"
     ]
    }
   ],
   "source": [
    "\n",
    "# The coefficient\n",
    "print('Slope: ', np.asscalar(np.squeeze(model.coef_)))\n",
    "# The Intercept\n",
    "print('Intercept: ', model.intercept_)"
   ]
  },
  {
   "cell_type": "markdown",
   "metadata": {},
   "source": [
    "#### Interpreting the coefficients:\n",
    "#### The slope coefficient tells us that with a 1 unit increase in date the closing price increases by 0.0117 \n",
    "#### The intercept coefficient is the price at wich the closing price measurement started, the stock price value at date zero"
   ]
  },
  {
   "cell_type": "code",
   "execution_count": 22,
   "metadata": {},
   "outputs": [],
   "source": [
    "# Create test arrays\n",
    "X_test = np.array(test.index).reshape(-1, 1)\n",
    "y_test = test['Close']\n",
    "y_pred = model.predict(X_test)"
   ]
  },
  {
   "cell_type": "code",
   "execution_count": 26,
   "metadata": {},
   "outputs": [
    {
     "data": {
      "image/png": "[encoded data removed]",
      "text/plain": [
       "<Figure size 720x432 with 1 Axes>"
      ]
     },
     "metadata": {
      "needs_background": "light"
     },
     "output_type": "display_data"
    }
   ],
   "source": [
    "\n",
    "# Train set graph\n",
    "plt.figure(1, figsize=(10,6))\n",
    "plt.title('Linear Regression | Price vs Time')\n",
    "plt.scatter(X_train, y_train, edgecolor='w', label='Actual Price')\n",
    "plt.plot(X_train, model.predict(X_train), color='r', label='Predicted Price')\n",
    "plt.xlabel('Integer Date')\n",
    "plt.ylabel('Stock Price')\n",
    "plt.legend()\n",
    "plt.show()"
   ]
  },
  {
   "cell_type": "code",
   "execution_count": null,
   "metadata": {},
   "outputs": [],
   "source": [
    "print('R2: ', metrics.r2_score(y_test, y_pred))"
   ]
  },
  {
   "cell_type": "code",
   "execution_count": null,
   "metadata": {},
   "outputs": [],
   "source": [
    "from sklearn import metrics\n",
    "# Calculate and print values of MAE, MSE, RMSE\n",
    "print('Mean Absolute Error:', metrics.mean_absolute_error(y_test, y_pred))  \n",
    "print('Mean Squared Error:', metrics.mean_squared_error(y_test, y_pred))  \n",
    "print('Root Mean Squared Error:', np.sqrt(metrics.mean_squared_error(y_test, y_pred)))"
   ]
  },
  {
   "cell_type": "markdown",
   "metadata": {},
   "source": [
    "### Ridge Regression"
   ]
  },
  {
   "cell_type": "code",
   "execution_count": null,
   "metadata": {},
   "outputs": [],
   "source": [
    "from sklearn import linear_model\n",
    "from sklearn.linear_model import Ridge\n",
    "print(X_train.shape)\n",
    "print(y_train.size)\n",
    "model_ridge = linear_model.Ridge()\n",
    "model_ridge.fit(X_train, y_train)\n",
    "model_ridge.score(X_train, y_train)"
   ]
  },
  {
   "cell_type": "code",
   "execution_count": null,
   "metadata": {},
   "outputs": [],
   "source": [
    "from sklearn.model_selection import train_test_split\n",
    "train, test = train_test_split(df, test_size=0.20)\n",
    "X_train = np.array(train.index).reshape(-1, 1)\n",
    "y_train = train['Close']\n",
    "X_test = np.array(test.index).reshape(-1, 1)\n",
    "y_test = test['Close']\n",
    "from sklearn.linear_model import Ridge\n",
    "\n",
    "rr = Ridge(alpha=40.0)   # higher the alpha value, more restriction on the coefficients; low alpha > more generalization, coefficients are barely\n",
    "\n",
    "rr.fit(X_train, y_train)\n",
    "\n",
    "rr110 = Ridge(alpha=110) #  comparison with alpha value\n",
    "rr110.fit(X_train, y_train)\n",
    "\n",
    "\n",
    "print(\"Regulrization L2 train score : \",  rr.score(X_train,y_train)*100)\n",
    "print(\"Regulrization L2 test score : \", rr.score(X_test, y_test)*100)\n",
    "print(\"Regulrization L2 train score for alpha = 100: \",  rr110.score(X_train,y_train)*100)\n",
    "print(\"Regulrization L2 test score for alpha = 100: \",rr110.score(X_test, y_test)*100)"
   ]
  },
  {
   "cell_type": "code",
   "execution_count": null,
   "metadata": {},
   "outputs": [],
   "source": [
    "y_pred = model_ridge.predict(X_test)\n",
    "print(y_test.shape)\n",
    "print(y_pred.shape)\n",
    "plt.scatter(y_test, y_pred)\n",
    "plt.xlabel(\"Close price: $Y_i$\")\n",
    "plt.ylabel(\"Predicted Close price: $\\hat{y}_i$\")\n",
    "plt.title(\"Ridge Regression : $Y_i$ vs $\\hat{y}_i$\")"
   ]
  },
  {
   "cell_type": "code",
   "execution_count": null,
   "metadata": {},
   "outputs": [],
   "source": []
  }
 ],
 "metadata": {
  "kernelspec": {
   "display_name": "Python 3",
   "language": "python",
   "name": "python3"
  },
  "language_info": {
   "codemirror_mode": {
    "name": "ipython",
    "version": 3
   },
   "file_extension": ".py",
   "mimetype": "text/x-python",
   "name": "python",
   "nbconvert_exporter": "python",
   "pygments_lexer": "ipython3",
   "version": "3.6.9"
  }
 },
 "nbformat": 4,
 "nbformat_minor": 2
}
